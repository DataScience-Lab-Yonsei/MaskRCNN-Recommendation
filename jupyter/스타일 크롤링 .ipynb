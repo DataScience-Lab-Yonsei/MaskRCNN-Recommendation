{
 "cells": [
  {
   "cell_type": "code",
   "execution_count": 1,
   "id": "9fff8761",
   "metadata": {},
   "outputs": [],
   "source": [
    "from bs4 import BeautifulSoup\n",
    "import urllib\n",
    "import json\n",
    "from tqdm import tqdm\n",
    "\n",
    "from urllib.request import urlretrieve\n",
    "\n",
    "import requests"
   ]
  },
  {
   "cell_type": "code",
   "execution_count": 2,
   "id": "72bf5482",
   "metadata": {},
   "outputs": [],
   "source": [
    "latest_post_id = 13967\n",
    "target_number = 1000 # 얼마나 크롤링할지\n",
    "headers = {'User-Agent': 'Mozilla/5.0 (Windows NT 10.0; Win64; x64) AppleWebKit/537.36 (KHTML, like Gecko) Chrome/97.0.4692.71 Safari/537.36 Edg/97.0.1072.55'}\n",
    "\n",
    "titles = []"
   ]
  },
  {
   "cell_type": "code",
   "execution_count": 3,
   "id": "b105f360",
   "metadata": {},
   "outputs": [
    {
     "name": "stderr",
     "output_type": "stream",
     "text": [
      " 77%|█████████████████████████████████████████████████████████████▏                 | 774/1000 [08:14<02:24,  1.57it/s]\n"
     ]
    },
    {
     "ename": "AttributeError",
     "evalue": "'NoneType' object has no attribute 'find'",
     "output_type": "error",
     "traceback": [
      "\u001b[1;31m---------------------------------------------------------------------------\u001b[0m",
      "\u001b[1;31mAttributeError\u001b[0m                            Traceback (most recent call last)",
      "\u001b[1;32m~\\AppData\\Local\\Temp\\ipykernel_7720\\4027110269.py\u001b[0m in \u001b[0;36m<module>\u001b[1;34m\u001b[0m\n\u001b[0;32m      9\u001b[0m \u001b[1;33m\u001b[0m\u001b[0m\n\u001b[0;32m     10\u001b[0m     \u001b[1;31m# Style 요소들\u001b[0m\u001b[1;33m\u001b[0m\u001b[1;33m\u001b[0m\u001b[1;33m\u001b[0m\u001b[0m\n\u001b[1;32m---> 11\u001b[1;33m     \u001b[0mstyle_title\u001b[0m \u001b[1;33m=\u001b[0m \u001b[0mcontents\u001b[0m\u001b[1;33m.\u001b[0m\u001b[0mfind\u001b[0m\u001b[1;33m(\u001b[0m\u001b[1;34m'h2'\u001b[0m\u001b[1;33m)\u001b[0m\u001b[1;33m.\u001b[0m\u001b[0mtext\u001b[0m  \u001b[1;31m# 이름\u001b[0m\u001b[1;33m\u001b[0m\u001b[1;33m\u001b[0m\u001b[0m\n\u001b[0m\u001b[0;32m     12\u001b[0m     \u001b[0mstyle_link\u001b[0m \u001b[1;33m=\u001b[0m \u001b[0murl\u001b[0m\u001b[1;33m\u001b[0m\u001b[1;33m\u001b[0m\u001b[0m\n\u001b[0;32m     13\u001b[0m     \u001b[0mstyle_date\u001b[0m \u001b[1;33m=\u001b[0m \u001b[0mcontents\u001b[0m\u001b[1;33m.\u001b[0m\u001b[0mfind\u001b[0m\u001b[1;33m(\u001b[0m\u001b[1;34m'p'\u001b[0m\u001b[1;33m,\u001b[0m \u001b[0mattrs\u001b[0m\u001b[1;33m=\u001b[0m\u001b[1;33m{\u001b[0m\u001b[1;34m'class'\u001b[0m\u001b[1;33m:\u001b[0m \u001b[1;34m'styling_date'\u001b[0m\u001b[1;33m}\u001b[0m\u001b[1;33m)\u001b[0m\u001b[1;33m.\u001b[0m\u001b[0mtext\u001b[0m\u001b[1;33m[\u001b[0m\u001b[1;33m:\u001b[0m\u001b[1;36m10\u001b[0m\u001b[1;33m]\u001b[0m  \u001b[1;31m# 게시날짜\u001b[0m\u001b[1;33m\u001b[0m\u001b[1;33m\u001b[0m\u001b[0m\n",
      "\u001b[1;31mAttributeError\u001b[0m: 'NoneType' object has no attribute 'find'"
     ]
    }
   ],
   "source": [
    "for i in tqdm(range(latest_post_id, latest_post_id - target_number, -1)):\n",
    "    style_id = f'musinsa_codimap_style_{i}'\n",
    "\n",
    "    url = f'https://store.musinsa.com/app/codimap/views/{i}?style_type=&tag_no=&brand=&display_cnt=60&list_kind=big&sort=date&page=1'\n",
    "    req = requests.get(url, headers=headers)\n",
    "    req.raise_for_status()\n",
    "    soup = BeautifulSoup(req.text, 'lxml')\n",
    "    contents = soup.find('div', attrs={'class': 'styling_content codimap-contents'})\n",
    "\n",
    "    # Style 요소들\n",
    "    style_title = contents.find('h2').text  # 이름\n",
    "    style_link = url\n",
    "    style_date = contents.find('p', attrs={'class': 'styling_date'}).text[:10]  # 게시날짜\n",
    "    style_description = contents.find('p', attrs={'class': 'styling_txt'}).text  # 스타일 한줄 설명\n",
    "    style_tags = contents.find_all('div', attrs={'class': 'ui-tag-list'}) # 해시 태그들\n",
    "    style_tag = [tag.text[1:] for tag in style_tags[0]]\n",
    "    style_tag = list(filter(None, style_tag))\n",
    "    style_img_url = 'https:' + contents.find('div', attrs={'class': 'codimap-cont'}).find('img')['src'][:-13]  # 스타일 디피 사진\n",
    "\n",
    "    urllib.request.urlretrieve(style_img_url, f'raw/img/img_style/{style_id}.jpg')\n",
    "    # 저장\n",
    "    style_info = dict()\n",
    "    style_info['title'] = style_title\n",
    "    style_info['style_id'] = style_id\n",
    "    style_info['link'] = style_link\n",
    "    style_info['date'] = style_date\n",
    "    style_info['description'] = style_description\n",
    "    style_info['tags'] = style_tag\n",
    "    with open(f\"raw/info/info_style/{style_id}.json\", 'w', encoding='utf-8') as file1:\n",
    "        json.dump(style_info, file1, indent=\"\\t\", ensure_ascii=False)\n",
    "    file1.close()\n",
    "\n",
    "    # Style에 속하는 아이템들\n",
    "    item_section = contents.find('div', attrs={'class': 'styling_list swiper-wrapper'})\n",
    "    items = item_section.find_all('div')\n",
    "\n",
    "    for j, item in enumerate(items):\n",
    "        if item.attrs['class'][0] in ['box-img', 'price']: \n",
    "            continue\n",
    "        item_id = f'{style_id}_item_{j}'        \n",
    "        # 아이템 요소들\n",
    "        item_title = item.find('a', attrs={'class': 'brand_item'}).text        \n",
    "        item_link = 'https://store.musinsa.com/' + item.find('a', attrs={'class': 'styling_img'})['href']\n",
    "        item_img_url ='https:'+ item.find('img')['src']\n",
    "        urllib.request.urlretrieve(item_img_url, f'raw/img/img_item/{item_id}.jpg')\n",
    "\n",
    "        item_info = dict()\n",
    "        item_info['title'] = item_title\n",
    "        item_info['style_id'] = style_id\n",
    "        item_info['item_id'] = item_id\n",
    "        item_info['link'] = item_link\n",
    "        item_info['title'] = item_title\n",
    "        with open(f\"raw/info/info_item/{item_id}.json\", 'w', encoding='utf-8') as file2:\n",
    "            json.dump(item_info, file2, indent=\"\\t\", ensure_ascii=False)\n",
    "        file2.close()"
   ]
  },
  {
   "cell_type": "code",
   "execution_count": null,
   "id": "ce48de2f",
   "metadata": {},
   "outputs": [],
   "source": []
  }
 ],
 "metadata": {
  "kernelspec": {
   "display_name": "dsl",
   "language": "python",
   "name": "dsl"
  },
  "language_info": {
   "codemirror_mode": {
    "name": "ipython",
    "version": 3
   },
   "file_extension": ".py",
   "mimetype": "text/x-python",
   "name": "python",
   "nbconvert_exporter": "python",
   "pygments_lexer": "ipython3",
   "version": "3.7.11"
  },
  "toc": {
   "base_numbering": 1,
   "nav_menu": {},
   "number_sections": true,
   "sideBar": true,
   "skip_h1_title": false,
   "title_cell": "Table of Contents",
   "title_sidebar": "Contents",
   "toc_cell": false,
   "toc_position": {},
   "toc_section_display": true,
   "toc_window_display": false
  }
 },
 "nbformat": 4,
 "nbformat_minor": 5
}
