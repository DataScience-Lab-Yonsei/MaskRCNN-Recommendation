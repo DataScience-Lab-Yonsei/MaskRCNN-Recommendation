{
 "cells": [
  {
   "cell_type": "code",
   "execution_count": 1,
   "metadata": {
    "colab": {
     "base_uri": "https://localhost:8080/"
    },
    "executionInfo": {
     "elapsed": 17886,
     "status": "ok",
     "timestamp": 1648228807202,
     "user": {
      "displayName": "박지호(공과대학 전기전자공학)",
      "photoUrl": "https://lh3.googleusercontent.com/a/default-user=s64",
      "userId": "16992648500508297386"
     },
     "user_tz": -540
    },
    "id": "_Rd05k2O_36s",
    "outputId": "cbe12640-8d39-42b5-b41d-d118715c15c6"
   },
   "outputs": [
    {
     "name": "stdout",
     "output_type": "stream",
     "text": [
      "Requirement already satisfied: requests in c:\\users\\82107\\anaconda3\\lib\\site-packages (2.26.0)\n",
      "Requirement already satisfied: charset-normalizer~=2.0.0 in c:\\users\\82107\\anaconda3\\lib\\site-packages (from requests) (2.0.4)\n",
      "Requirement already satisfied: certifi>=2017.4.17 in c:\\users\\82107\\anaconda3\\lib\\site-packages (from requests) (2021.10.8)\n",
      "Requirement already satisfied: idna<4,>=2.5 in c:\\users\\82107\\anaconda3\\lib\\site-packages (from requests) (3.2)\n",
      "Requirement already satisfied: urllib3<1.27,>=1.21.1 in c:\\users\\82107\\anaconda3\\lib\\site-packages (from requests) (1.26.7)\n",
      "Requirement already satisfied: beautifulsoup4 in c:\\users\\82107\\anaconda3\\lib\\site-packages (4.10.0)\n",
      "Requirement already satisfied: soupsieve>1.2 in c:\\users\\82107\\anaconda3\\lib\\site-packages (from beautifulsoup4) (2.2.1)\n",
      "Requirement already satisfied: lxml in c:\\users\\82107\\anaconda3\\lib\\site-packages (4.6.3)\n",
      "Requirement already satisfied: selenium in c:\\users\\82107\\anaconda3\\lib\\site-packages (4.1.3)\n",
      "Requirement already satisfied: urllib3[secure,socks]~=1.26 in c:\\users\\82107\\anaconda3\\lib\\site-packages (from selenium) (1.26.7)\n",
      "Requirement already satisfied: trio~=0.17 in c:\\users\\82107\\anaconda3\\lib\\site-packages (from selenium) (0.20.0)\n",
      "Requirement already satisfied: trio-websocket~=0.9 in c:\\users\\82107\\anaconda3\\lib\\site-packages (from selenium) (0.9.2)\n",
      "Requirement already satisfied: sniffio in c:\\users\\82107\\anaconda3\\lib\\site-packages (from trio~=0.17->selenium) (1.2.0)\n",
      "Requirement already satisfied: attrs>=19.2.0 in c:\\users\\82107\\anaconda3\\lib\\site-packages (from trio~=0.17->selenium) (21.2.0)\n",
      "Requirement already satisfied: cffi>=1.14 in c:\\users\\82107\\anaconda3\\lib\\site-packages (from trio~=0.17->selenium) (1.14.6)\n",
      "Requirement already satisfied: idna in c:\\users\\82107\\anaconda3\\lib\\site-packages (from trio~=0.17->selenium) (3.2)\n",
      "Requirement already satisfied: sortedcontainers in c:\\users\\82107\\anaconda3\\lib\\site-packages (from trio~=0.17->selenium) (2.4.0)\n",
      "Requirement already satisfied: async-generator>=1.9 in c:\\users\\82107\\anaconda3\\lib\\site-packages (from trio~=0.17->selenium) (1.10)\n",
      "Requirement already satisfied: outcome in c:\\users\\82107\\anaconda3\\lib\\site-packages (from trio~=0.17->selenium) (1.1.0)\n",
      "Requirement already satisfied: pycparser in c:\\users\\82107\\anaconda3\\lib\\site-packages (from cffi>=1.14->trio~=0.17->selenium) (2.20)\n",
      "Requirement already satisfied: wsproto>=0.14 in c:\\users\\82107\\anaconda3\\lib\\site-packages (from trio-websocket~=0.9->selenium) (1.1.0)\n",
      "Requirement already satisfied: PySocks!=1.5.7,<2.0,>=1.5.6 in c:\\users\\82107\\anaconda3\\lib\\site-packages (from urllib3[secure,socks]~=1.26->selenium) (1.7.1)\n",
      "Requirement already satisfied: pyOpenSSL>=0.14 in c:\\users\\82107\\anaconda3\\lib\\site-packages (from urllib3[secure,socks]~=1.26->selenium) (21.0.0)\n",
      "Requirement already satisfied: cryptography>=1.3.4 in c:\\users\\82107\\anaconda3\\lib\\site-packages (from urllib3[secure,socks]~=1.26->selenium) (3.4.8)\n",
      "Requirement already satisfied: certifi in c:\\users\\82107\\anaconda3\\lib\\site-packages (from urllib3[secure,socks]~=1.26->selenium) (2021.10.8)\n",
      "Requirement already satisfied: six>=1.5.2 in c:\\users\\82107\\anaconda3\\lib\\site-packages (from pyOpenSSL>=0.14->urllib3[secure,socks]~=1.26->selenium) (1.16.0)\n",
      "Requirement already satisfied: h11<1,>=0.9.0 in c:\\users\\82107\\anaconda3\\lib\\site-packages (from wsproto>=0.14->trio-websocket~=0.9->selenium) (0.13.0)\n"
     ]
    }
   ],
   "source": [
    "#!pip install requests\n",
    "\n",
    "#!pip install beautifulsoup4\n",
    "\n",
    "#!pip install lxml\n",
    "\n",
    "#!pip install selenium"
   ]
  },
  {
   "cell_type": "code",
   "execution_count": 3,
   "metadata": {
    "colab": {
     "base_uri": "https://localhost:8080/"
    },
    "executionInfo": {
     "elapsed": 398,
     "status": "ok",
     "timestamp": 1648228807598,
     "user": {
      "displayName": "박지호(공과대학 전기전자공학)",
      "photoUrl": "https://lh3.googleusercontent.com/a/default-user=s64",
      "userId": "16992648500508297386"
     },
     "user_tz": -540
    },
    "id": "6x8ydvvt_6ix",
    "outputId": "8bbff928-27e3-469d-ecb1-fbcaf6029dbe"
   },
   "outputs": [],
   "source": [
    "import requests\n",
    "from bs4 import BeautifulSoup\n",
    "\n",
    "import urllib\n",
    "from urllib.request import urlretrieve\n",
    "\n",
    "import json\n",
    "\n",
    "import os"
   ]
  },
  {
   "cell_type": "code",
   "execution_count": 4,
   "metadata": {},
   "outputs": [],
   "source": [
    "#codi 모음 페이지 (1491부터 시작), collection number는 코디북 사이트에서 제공 https://ko.codibook.net/collection?mode=list\n",
    "def crawl_codibook_collection(collection_num_begin, collection_num_end):\n",
    "    url_codi_collection = 'https://ko.codibook.net/collection/'\n",
    "    for i in range(collection_num_begin, collection_num_end+1):\n",
    "        url = url_codi_collection + f'{i}'\n",
    "        headers = {'user-agent': 'Mozilla/5.0 (Windows NT 10.0; Win64; x64) AppleWebKit/537.36 (KHTML, like Gecko) Chrome/99.0.4844.82 Safari/537.36'}\n",
    "        res = requests.get(url, headers = headers)\n",
    "        soup = BeautifulSoup(res.text, 'lxml')\n",
    "        null_msg = soup.find(class_='error_message')\n",
    "        \n",
    "        #없는 page면 break\n",
    "        if null_msg is not None:\n",
    "            continue\n",
    "        \n",
    "\n",
    "        #코디 속 아이템이 판매중인 코디 검색\n",
    "        codi_items = soup.find_all('div', class_ = \"codi_list_items_wrapper\")\n",
    "\n",
    "        for codi_item_wrapper in codi_items:\n",
    "            #코디 속 아이템을 판매하는 코디가 없는 경우 break\n",
    "            if codi_item_wrapper.find('a') is None:\n",
    "                continue\n",
    "            codi = codi_item_wrapper.parent.parent.find(class_='codi_link')\n",
    "            codi_link  = 'https://ko.codibook.net' + codi['href']\n",
    "            codi_id = codi['data-codi_id']\n",
    "            codi_img = codi.find(class_ = 'thumb')['src']\n",
    "            \n",
    "            #codi의 info, img 저장\n",
    "            urllib.request.urlretrieve(codi_img,f'./codibook/img/img_style/codibook_style_{codi_id}.jpg' )\n",
    "            \n",
    "            codi_info ={}\n",
    "            codi_info['style_id'] = codi_id\n",
    "            codi_info['link'] = codi_link    \n",
    "            with open(f'./codibook/info/info_style/codibook_style_{codi_id}.json', 'w', encoding='utf-8') as make_file:\n",
    "                json.dump(codi_info, make_file, indent=\"\\t\", ensure_ascii=False)\n",
    "            make_file.close()\n",
    "            \n",
    "            \n",
    "            #codi속 item 추출\n",
    "            codi_item_list = codi_item_wrapper.find_all('a')\n",
    "            for codi_item in codi_item_list:\n",
    "                item_info = {}\n",
    "                if codi_item.find(class_= 'codi_item_title') is not None:\n",
    "                    item_info['title'] = codi_item.find(class_= 'codi_item_title').get_text()\n",
    "                \n",
    "                item_info['link'] = 'https://ko.codibook.net' + codi_item['href']\n",
    "                item_id = codi_item['href'].strip('/item/')\n",
    "                item_info['item_id'] = item_id\n",
    "                item_info['style_id'] = codi_id\n",
    "                if codi_item.find('img') is None:\n",
    "                    continue\n",
    "                item_img = codi_item.find('img')['src']\n",
    "                \n",
    "                #item의 img, info 저장\n",
    "                urllib.request.urlretrieve(item_img,f'./codibook/img/img_item/codibook_item_{codi_id}_{item_id}.jpg' )\n",
    "                \n",
    "                with open(f'./codibook/info/info_item/codibook_item_{codi_id}_{item_id}.json', 'w', encoding='utf-8') as make_file:\n",
    "                    json.dump(item_info, make_file, indent=\"\\t\", ensure_ascii=False)\n",
    "                make_file.close()"
   ]
  },
  {
   "cell_type": "code",
   "execution_count": null,
   "metadata": {},
   "outputs": [],
   "source": [
    "crawl_codibook_collection(2000,2340)"
   ]
  }
 ],
 "metadata": {
  "colab": {
   "authorship_tag": "ABX9TyM/FAoq1EstIxMc16+2j9nQ",
   "collapsed_sections": [],
   "name": "Codibook crawling.ipynb",
   "provenance": [],
   "toc_visible": true
  },
  "kernelspec": {
   "display_name": "Python 3 (ipykernel)",
   "language": "python",
   "name": "python3"
  },
  "language_info": {
   "codemirror_mode": {
    "name": "ipython",
    "version": 3
   },
   "file_extension": ".py",
   "mimetype": "text/x-python",
   "name": "python",
   "nbconvert_exporter": "python",
   "pygments_lexer": "ipython3",
   "version": "3.9.7"
  }
 },
 "nbformat": 4,
 "nbformat_minor": 1
}
