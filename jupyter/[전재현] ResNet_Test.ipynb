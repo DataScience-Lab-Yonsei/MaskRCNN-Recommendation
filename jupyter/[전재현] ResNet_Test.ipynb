{
  "cells": [
    {
      "cell_type": "markdown",
      "metadata": {
        "id": "bkemOopigNmN"
      },
      "source": [
        "# Kaggle"
      ]
    },
    {
      "cell_type": "code",
      "execution_count": 1,
      "metadata": {
        "id": "hl2bUDrJRzl7"
      },
      "outputs": [],
      "source": [
        "import pandas as pd\n",
        "import numpy as np"
      ]
    },
    {
      "cell_type": "code",
      "execution_count": 2,
      "metadata": {
        "id": "909NZCmAY87t"
      },
      "outputs": [],
      "source": [
        "!mkdir -p ~/.kaggle\n",
        "!cp kaggle.json ~/.kaggle\n",
        "!chmod 600 ~/.kaggle/kaggle.json"
      ]
    },
    {
      "cell_type": "code",
      "execution_count": 3,
      "metadata": {
        "colab": {
          "base_uri": "https://localhost:8080/"
        },
        "id": "E4Qo9OHGZWpe",
        "outputId": "ae194dd9-9869-4efc-92ff-ce70c20cebff"
      },
      "outputs": [
        {
          "output_type": "stream",
          "name": "stdout",
          "text": [
            "Downloading fashion-product-images-small.zip to /content\n",
            " 98% 555M/565M [00:04<00:00, 135MB/s]\n",
            "100% 565M/565M [00:04<00:00, 120MB/s]\n"
          ]
        }
      ],
      "source": [
        "!kaggle datasets download -d paramaggarwal/fashion-product-images-small"
      ]
    },
    {
      "cell_type": "code",
      "execution_count": null,
      "metadata": {
        "id": "yo8P4P6iZnyh"
      },
      "outputs": [],
      "source": [
        "!unzip fashion-product-images-small.zip"
      ]
    },
    {
      "cell_type": "code",
      "execution_count": 5,
      "metadata": {
        "colab": {
          "base_uri": "https://localhost:8080/",
          "height": 318
        },
        "id": "RbeS99wKR2vh",
        "outputId": "c8ae7339-1236-4632-b6ee-d257ee44f14d"
      },
      "outputs": [
        {
          "output_type": "stream",
          "name": "stderr",
          "text": [
            "/usr/local/lib/python3.7/dist-packages/IPython/core/interactiveshell.py:2882: FutureWarning: The error_bad_lines argument has been deprecated and will be removed in a future version.\n",
            "\n",
            "\n",
            "  exec(code_obj, self.user_global_ns, self.user_ns)\n",
            "b'Skipping line 6044: expected 10 fields, saw 11\\nSkipping line 6569: expected 10 fields, saw 11\\nSkipping line 7399: expected 10 fields, saw 11\\nSkipping line 7939: expected 10 fields, saw 11\\nSkipping line 9026: expected 10 fields, saw 11\\nSkipping line 10264: expected 10 fields, saw 11\\nSkipping line 10427: expected 10 fields, saw 11\\nSkipping line 10905: expected 10 fields, saw 11\\nSkipping line 11373: expected 10 fields, saw 11\\nSkipping line 11945: expected 10 fields, saw 11\\nSkipping line 14112: expected 10 fields, saw 11\\nSkipping line 14532: expected 10 fields, saw 11\\nSkipping line 15076: expected 10 fields, saw 12\\nSkipping line 29906: expected 10 fields, saw 11\\nSkipping line 31625: expected 10 fields, saw 11\\nSkipping line 33020: expected 10 fields, saw 11\\nSkipping line 35748: expected 10 fields, saw 11\\nSkipping line 35962: expected 10 fields, saw 11\\nSkipping line 37770: expected 10 fields, saw 11\\nSkipping line 38105: expected 10 fields, saw 11\\nSkipping line 38275: expected 10 fields, saw 11\\nSkipping line 38404: expected 10 fields, saw 12\\n'\n"
          ]
        },
        {
          "output_type": "execute_result",
          "data": {
            "text/plain": [
              "      id gender masterCategory subCategory  articleType baseColour  season  \\\n",
              "0  15970    Men        Apparel     Topwear       Shirts  Navy Blue    Fall   \n",
              "1  39386    Men        Apparel  Bottomwear        Jeans       Blue  Summer   \n",
              "2  59263  Women    Accessories     Watches      Watches     Silver  Winter   \n",
              "3  21379    Men        Apparel  Bottomwear  Track Pants      Black    Fall   \n",
              "4  53759    Men        Apparel     Topwear      Tshirts       Grey  Summer   \n",
              "\n",
              "     year   usage                             productDisplayName  \n",
              "0  2011.0  Casual               Turtle Check Men Navy Blue Shirt  \n",
              "1  2012.0  Casual             Peter England Men Party Blue Jeans  \n",
              "2  2016.0  Casual                       Titan Women Silver Watch  \n",
              "3  2011.0  Casual  Manchester United Men Solid Black Track Pants  \n",
              "4  2012.0  Casual                          Puma Men Grey T-shirt  "
            ],
            "text/html": [
              "\n",
              "  <div id=\"df-0eb89983-f5e0-4e71-9ea2-52b4abda6e91\">\n",
              "    <div class=\"colab-df-container\">\n",
              "      <div>\n",
              "<style scoped>\n",
              "    .dataframe tbody tr th:only-of-type {\n",
              "        vertical-align: middle;\n",
              "    }\n",
              "\n",
              "    .dataframe tbody tr th {\n",
              "        vertical-align: top;\n",
              "    }\n",
              "\n",
              "    .dataframe thead th {\n",
              "        text-align: right;\n",
              "    }\n",
              "</style>\n",
              "<table border=\"1\" class=\"dataframe\">\n",
              "  <thead>\n",
              "    <tr style=\"text-align: right;\">\n",
              "      <th></th>\n",
              "      <th>id</th>\n",
              "      <th>gender</th>\n",
              "      <th>masterCategory</th>\n",
              "      <th>subCategory</th>\n",
              "      <th>articleType</th>\n",
              "      <th>baseColour</th>\n",
              "      <th>season</th>\n",
              "      <th>year</th>\n",
              "      <th>usage</th>\n",
              "      <th>productDisplayName</th>\n",
              "    </tr>\n",
              "  </thead>\n",
              "  <tbody>\n",
              "    <tr>\n",
              "      <th>0</th>\n",
              "      <td>15970</td>\n",
              "      <td>Men</td>\n",
              "      <td>Apparel</td>\n",
              "      <td>Topwear</td>\n",
              "      <td>Shirts</td>\n",
              "      <td>Navy Blue</td>\n",
              "      <td>Fall</td>\n",
              "      <td>2011.0</td>\n",
              "      <td>Casual</td>\n",
              "      <td>Turtle Check Men Navy Blue Shirt</td>\n",
              "    </tr>\n",
              "    <tr>\n",
              "      <th>1</th>\n",
              "      <td>39386</td>\n",
              "      <td>Men</td>\n",
              "      <td>Apparel</td>\n",
              "      <td>Bottomwear</td>\n",
              "      <td>Jeans</td>\n",
              "      <td>Blue</td>\n",
              "      <td>Summer</td>\n",
              "      <td>2012.0</td>\n",
              "      <td>Casual</td>\n",
              "      <td>Peter England Men Party Blue Jeans</td>\n",
              "    </tr>\n",
              "    <tr>\n",
              "      <th>2</th>\n",
              "      <td>59263</td>\n",
              "      <td>Women</td>\n",
              "      <td>Accessories</td>\n",
              "      <td>Watches</td>\n",
              "      <td>Watches</td>\n",
              "      <td>Silver</td>\n",
              "      <td>Winter</td>\n",
              "      <td>2016.0</td>\n",
              "      <td>Casual</td>\n",
              "      <td>Titan Women Silver Watch</td>\n",
              "    </tr>\n",
              "    <tr>\n",
              "      <th>3</th>\n",
              "      <td>21379</td>\n",
              "      <td>Men</td>\n",
              "      <td>Apparel</td>\n",
              "      <td>Bottomwear</td>\n",
              "      <td>Track Pants</td>\n",
              "      <td>Black</td>\n",
              "      <td>Fall</td>\n",
              "      <td>2011.0</td>\n",
              "      <td>Casual</td>\n",
              "      <td>Manchester United Men Solid Black Track Pants</td>\n",
              "    </tr>\n",
              "    <tr>\n",
              "      <th>4</th>\n",
              "      <td>53759</td>\n",
              "      <td>Men</td>\n",
              "      <td>Apparel</td>\n",
              "      <td>Topwear</td>\n",
              "      <td>Tshirts</td>\n",
              "      <td>Grey</td>\n",
              "      <td>Summer</td>\n",
              "      <td>2012.0</td>\n",
              "      <td>Casual</td>\n",
              "      <td>Puma Men Grey T-shirt</td>\n",
              "    </tr>\n",
              "  </tbody>\n",
              "</table>\n",
              "</div>\n",
              "      <button class=\"colab-df-convert\" onclick=\"convertToInteractive('df-0eb89983-f5e0-4e71-9ea2-52b4abda6e91')\"\n",
              "              title=\"Convert this dataframe to an interactive table.\"\n",
              "              style=\"display:none;\">\n",
              "        \n",
              "  <svg xmlns=\"http://www.w3.org/2000/svg\" height=\"24px\"viewBox=\"0 0 24 24\"\n",
              "       width=\"24px\">\n",
              "    <path d=\"M0 0h24v24H0V0z\" fill=\"none\"/>\n",
              "    <path d=\"M18.56 5.44l.94 2.06.94-2.06 2.06-.94-2.06-.94-.94-2.06-.94 2.06-2.06.94zm-11 1L8.5 8.5l.94-2.06 2.06-.94-2.06-.94L8.5 2.5l-.94 2.06-2.06.94zm10 10l.94 2.06.94-2.06 2.06-.94-2.06-.94-.94-2.06-.94 2.06-2.06.94z\"/><path d=\"M17.41 7.96l-1.37-1.37c-.4-.4-.92-.59-1.43-.59-.52 0-1.04.2-1.43.59L10.3 9.45l-7.72 7.72c-.78.78-.78 2.05 0 2.83L4 21.41c.39.39.9.59 1.41.59.51 0 1.02-.2 1.41-.59l7.78-7.78 2.81-2.81c.8-.78.8-2.07 0-2.86zM5.41 20L4 18.59l7.72-7.72 1.47 1.35L5.41 20z\"/>\n",
              "  </svg>\n",
              "      </button>\n",
              "      \n",
              "  <style>\n",
              "    .colab-df-container {\n",
              "      display:flex;\n",
              "      flex-wrap:wrap;\n",
              "      gap: 12px;\n",
              "    }\n",
              "\n",
              "    .colab-df-convert {\n",
              "      background-color: #E8F0FE;\n",
              "      border: none;\n",
              "      border-radius: 50%;\n",
              "      cursor: pointer;\n",
              "      display: none;\n",
              "      fill: #1967D2;\n",
              "      height: 32px;\n",
              "      padding: 0 0 0 0;\n",
              "      width: 32px;\n",
              "    }\n",
              "\n",
              "    .colab-df-convert:hover {\n",
              "      background-color: #E2EBFA;\n",
              "      box-shadow: 0px 1px 2px rgba(60, 64, 67, 0.3), 0px 1px 3px 1px rgba(60, 64, 67, 0.15);\n",
              "      fill: #174EA6;\n",
              "    }\n",
              "\n",
              "    [theme=dark] .colab-df-convert {\n",
              "      background-color: #3B4455;\n",
              "      fill: #D2E3FC;\n",
              "    }\n",
              "\n",
              "    [theme=dark] .colab-df-convert:hover {\n",
              "      background-color: #434B5C;\n",
              "      box-shadow: 0px 1px 3px 1px rgba(0, 0, 0, 0.15);\n",
              "      filter: drop-shadow(0px 1px 2px rgba(0, 0, 0, 0.3));\n",
              "      fill: #FFFFFF;\n",
              "    }\n",
              "  </style>\n",
              "\n",
              "      <script>\n",
              "        const buttonEl =\n",
              "          document.querySelector('#df-0eb89983-f5e0-4e71-9ea2-52b4abda6e91 button.colab-df-convert');\n",
              "        buttonEl.style.display =\n",
              "          google.colab.kernel.accessAllowed ? 'block' : 'none';\n",
              "\n",
              "        async function convertToInteractive(key) {\n",
              "          const element = document.querySelector('#df-0eb89983-f5e0-4e71-9ea2-52b4abda6e91');\n",
              "          const dataTable =\n",
              "            await google.colab.kernel.invokeFunction('convertToInteractive',\n",
              "                                                     [key], {});\n",
              "          if (!dataTable) return;\n",
              "\n",
              "          const docLinkHtml = 'Like what you see? Visit the ' +\n",
              "            '<a target=\"_blank\" href=https://colab.research.google.com/notebooks/data_table.ipynb>data table notebook</a>'\n",
              "            + ' to learn more about interactive tables.';\n",
              "          element.innerHTML = '';\n",
              "          dataTable['output_type'] = 'display_data';\n",
              "          await google.colab.output.renderOutput(dataTable, element);\n",
              "          const docLink = document.createElement('div');\n",
              "          docLink.innerHTML = docLinkHtml;\n",
              "          element.appendChild(docLink);\n",
              "        }\n",
              "      </script>\n",
              "    </div>\n",
              "  </div>\n",
              "  "
            ]
          },
          "metadata": {},
          "execution_count": 5
        }
      ],
      "source": [
        "df = pd.read_csv('/content/styles.csv',error_bad_lines=False)\n",
        "df.head()"
      ]
    },
    {
      "cell_type": "code",
      "execution_count": 6,
      "metadata": {
        "colab": {
          "base_uri": "https://localhost:8080/"
        },
        "id": "PUmypUJMRyXK",
        "outputId": "80a161e7-fbfc-47f6-d826-d8f3b0b0d42b"
      },
      "outputs": [
        {
          "output_type": "execute_result",
          "data": {
            "text/plain": [
              "Index(['id', 'gender', 'masterCategory', 'subCategory', 'articleType',\n",
              "       'baseColour', 'season', 'year', 'usage', 'productDisplayName'],\n",
              "      dtype='object')"
            ]
          },
          "metadata": {},
          "execution_count": 6
        }
      ],
      "source": [
        "df = df.dropna()\n",
        "df.columns"
      ]
    },
    {
      "cell_type": "code",
      "execution_count": 7,
      "metadata": {
        "colab": {
          "base_uri": "https://localhost:8080/"
        },
        "id": "uKCiWjcsdq2H",
        "outputId": "822a1d1c-c943-4385-bc3b-b0cff556604b"
      },
      "outputs": [
        {
          "output_type": "execute_result",
          "data": {
            "text/plain": [
              "array(['Topwear', 'Bottomwear', 'Watches', 'Socks', 'Shoes', 'Belts',\n",
              "       'Flip Flops', 'Bags', 'Innerwear', 'Sandal', 'Shoe Accessories',\n",
              "       'Fragrance', 'Jewellery', 'Lips', 'Saree', 'Eyewear', 'Scarves',\n",
              "       'Dress', 'Loungewear and Nightwear', 'Wallets', 'Apparel Set',\n",
              "       'Headwear', 'Mufflers', 'Skin Care', 'Makeup', 'Free Gifts',\n",
              "       'Ties', 'Accessories', 'Nails', 'Beauty Accessories',\n",
              "       'Water Bottle', 'Skin', 'Eyes', 'Bath and Body', 'Gloves',\n",
              "       'Sports Accessories', 'Cufflinks', 'Sports Equipment', 'Stoles',\n",
              "       'Hair', 'Perfumes', 'Home Furnishing', 'Umbrellas', 'Wristbands',\n",
              "       'Vouchers'], dtype=object)"
            ]
          },
          "metadata": {},
          "execution_count": 7
        }
      ],
      "source": [
        "df.subCategory.unique()"
      ]
    },
    {
      "cell_type": "markdown",
      "metadata": {
        "id": "Z95w_mM6d2EE"
      },
      "source": [
        "# Topwear, Bottomwear -> Train, Test"
      ]
    },
    {
      "cell_type": "code",
      "execution_count": 8,
      "metadata": {
        "id": "JgjXnDlDSBXk"
      },
      "outputs": [],
      "source": [
        "import os\n",
        "import shutil\n",
        "\n",
        "#shutil.rmtree('/content/topwear')\n",
        "#shutil.rmtree('/content/bottomwear')\n",
        "\n",
        "os.makedirs('/content/train/top')\n",
        "os.makedirs('/content/train/bottom')\n",
        "os.makedirs('/content/test/top')\n",
        "os.makedirs('/content/test/bottom')"
      ]
    },
    {
      "cell_type": "code",
      "execution_count": 9,
      "metadata": {
        "colab": {
          "base_uri": "https://localhost:8080/"
        },
        "id": "QDu7J2exeMMt",
        "outputId": "63c8b32e-a98e-47a8-fd5d-27a2c995d2a5"
      },
      "outputs": [
        {
          "output_type": "execute_result",
          "data": {
            "text/plain": [
              "array([15970, 53759,  1855, ..., 12544, 42234, 18842])"
            ]
          },
          "metadata": {},
          "execution_count": 9
        }
      ],
      "source": [
        "top_id = df[df['subCategory']=='Topwear'].id.values\n",
        "top_id"
      ]
    },
    {
      "cell_type": "code",
      "execution_count": 10,
      "metadata": {
        "colab": {
          "base_uri": "https://localhost:8080/"
        },
        "id": "FdvFfEyS5nn3",
        "outputId": "7b4bee98-27ab-4441-cdef-c9219d7919f8"
      },
      "outputs": [
        {
          "output_type": "execute_result",
          "data": {
            "text/plain": [
              "15387"
            ]
          },
          "metadata": {},
          "execution_count": 10
        }
      ],
      "source": [
        "top_cnt = df[df['subCategory']=='Topwear'].id.values.shape[0]\n",
        "top_cnt"
      ]
    },
    {
      "cell_type": "code",
      "execution_count": 11,
      "metadata": {
        "colab": {
          "base_uri": "https://localhost:8080/"
        },
        "id": "RhXa2cKketrM",
        "outputId": "e91ecf87-82dc-48e3-bd84-810fcf932b3a"
      },
      "outputs": [
        {
          "output_type": "execute_result",
          "data": {
            "text/plain": [
              "array([39386, 21379, 18005, ..., 23455, 10445, 10021])"
            ]
          },
          "metadata": {},
          "execution_count": 11
        }
      ],
      "source": [
        "bot_id = df[df['subCategory']=='Bottomwear'].id.values\n",
        "bot_id"
      ]
    },
    {
      "cell_type": "code",
      "execution_count": 12,
      "metadata": {
        "colab": {
          "base_uri": "https://localhost:8080/"
        },
        "id": "TiVc0iD_5rFp",
        "outputId": "1d7ba3e2-c17f-4a4d-94b4-b2fdd6df60d3"
      },
      "outputs": [
        {
          "output_type": "execute_result",
          "data": {
            "text/plain": [
              "2686"
            ]
          },
          "metadata": {},
          "execution_count": 12
        }
      ],
      "source": [
        "bot_cnt = df[df['subCategory']=='Bottomwear'].id.values.shape[0]\n",
        "bot_cnt"
      ]
    },
    {
      "cell_type": "code",
      "execution_count": 13,
      "metadata": {
        "id": "X4zl25Z4gt0F"
      },
      "outputs": [],
      "source": [
        "cnt = 0\n",
        "for i in top_id:\n",
        "  src = '/content/images/'+str(i)+'.jpg'\n",
        "  cnt += 1\n",
        "  if cnt <= top_cnt*0.75:\n",
        "    dst = '/content/train/top'\n",
        "  else:\n",
        "    dst = '/content/test/top'\n",
        "\n",
        "  try:\n",
        "    shutil.copy(src, dst)\n",
        "  except:\n",
        "    pass"
      ]
    },
    {
      "cell_type": "code",
      "execution_count": 14,
      "metadata": {
        "id": "38a5nzEB-9lc"
      },
      "outputs": [],
      "source": [
        "cnt = 0\n",
        "for i in bot_id:\n",
        "  src = '/content/images/'+str(i)+'.jpg'\n",
        "  cnt += 1\n",
        "  if cnt <= bot_cnt*0.75:\n",
        "    dst = '/content/train/bottom'\n",
        "  else:\n",
        "    dst = '/content/test/bottom'\n",
        "\n",
        "  try:\n",
        "    shutil.copy(src, dst)\n",
        "  except:\n",
        "    pass"
      ]
    },
    {
      "cell_type": "code",
      "execution_count": 15,
      "metadata": {
        "colab": {
          "base_uri": "https://localhost:8080/"
        },
        "id": "tAJlSQOZ-lE1",
        "outputId": "9a2d649f-365a-4573-dcce-d6b41bd13cec"
      },
      "outputs": [
        {
          "output_type": "stream",
          "name": "stdout",
          "text": [
            "11538\n",
            "3845\n",
            "2013\n",
            "672\n"
          ]
        }
      ],
      "source": [
        "print(len(os.listdir('/content/train/top')))\n",
        "print(len(os.listdir('/content/test/top')))\n",
        "print(len(os.listdir('/content/train/bottom')))\n",
        "print(len(os.listdir('/content/test/bottom')))"
      ]
    },
    {
      "cell_type": "markdown",
      "metadata": {
        "id": "5E7dX4Pi7chI"
      },
      "source": [
        "# 이미지 시각화 확인 작업"
      ]
    },
    {
      "cell_type": "code",
      "execution_count": 16,
      "metadata": {
        "id": "IVvo9gqq7YxI"
      },
      "outputs": [],
      "source": [
        "import matplotlib.pyplot as plt\n",
        "from matplotlib.pyplot import imshow\n",
        "import cv2\n",
        "import glob\n",
        "%matplotlib inline"
      ]
    },
    {
      "cell_type": "code",
      "execution_count": 17,
      "metadata": {
        "colab": {
          "base_uri": "https://localhost:8080/"
        },
        "id": "Q13Hh8adAbY5",
        "outputId": "58dba85c-139b-45a9-c538-cb2bfe799509"
      },
      "outputs": [
        {
          "output_type": "execute_result",
          "data": {
            "text/plain": [
              "['/content/train/top/13793.jpg',\n",
              " '/content/train/top/57288.jpg',\n",
              " '/content/train/top/24385.jpg',\n",
              " '/content/train/top/20349.jpg',\n",
              " '/content/train/top/46253.jpg',\n",
              " '/content/train/top/20257.jpg',\n",
              " '/content/train/top/3011.jpg',\n",
              " '/content/train/top/23638.jpg',\n",
              " '/content/train/top/43691.jpg',\n",
              " '/content/train/top/10821.jpg',\n",
              " '/content/train/top/16231.jpg',\n",
              " '/content/train/top/5718.jpg',\n",
              " '/content/train/top/31936.jpg',\n",
              " '/content/train/top/34336.jpg',\n",
              " '/content/train/top/53414.jpg',\n",
              " '/content/train/top/27275.jpg',\n",
              " '/content/train/top/13865.jpg',\n",
              " '/content/train/top/4756.jpg',\n",
              " '/content/train/top/30618.jpg',\n",
              " '/content/train/top/2286.jpg',\n",
              " '/content/train/top/8469.jpg',\n",
              " '/content/train/top/2737.jpg',\n",
              " '/content/train/top/4035.jpg',\n",
              " '/content/train/top/41331.jpg',\n",
              " '/content/train/top/37167.jpg',\n",
              " '/content/train/top/32206.jpg',\n",
              " '/content/train/top/44889.jpg',\n",
              " '/content/train/top/9800.jpg',\n",
              " '/content/train/top/42600.jpg',\n",
              " '/content/train/top/38153.jpg',\n",
              " '/content/train/top/28531.jpg',\n",
              " '/content/train/top/33996.jpg',\n",
              " '/content/train/top/20032.jpg',\n",
              " '/content/train/top/34372.jpg',\n",
              " '/content/train/top/22618.jpg',\n",
              " '/content/train/top/13849.jpg',\n",
              " '/content/train/top/59121.jpg',\n",
              " '/content/train/top/31242.jpg',\n",
              " '/content/train/top/20000.jpg',\n",
              " '/content/train/top/21602.jpg',\n",
              " '/content/train/top/9973.jpg',\n",
              " '/content/train/top/8412.jpg',\n",
              " '/content/train/top/19711.jpg',\n",
              " '/content/train/top/11706.jpg',\n",
              " '/content/train/top/5113.jpg',\n",
              " '/content/train/top/35052.jpg',\n",
              " '/content/train/top/11167.jpg',\n",
              " '/content/train/top/44901.jpg',\n",
              " '/content/train/top/7901.jpg',\n",
              " '/content/train/top/36303.jpg',\n",
              " '/content/train/top/51422.jpg',\n",
              " '/content/train/top/12939.jpg',\n",
              " '/content/train/top/19956.jpg',\n",
              " '/content/train/top/4768.jpg',\n",
              " '/content/train/top/14674.jpg',\n",
              " '/content/train/top/7158.jpg',\n",
              " '/content/train/top/37744.jpg',\n",
              " '/content/train/top/26125.jpg',\n",
              " '/content/train/top/24378.jpg',\n",
              " '/content/train/top/20006.jpg',\n",
              " '/content/train/top/2702.jpg',\n",
              " '/content/train/top/20220.jpg',\n",
              " '/content/train/top/34349.jpg',\n",
              " '/content/train/top/35988.jpg',\n",
              " '/content/train/top/12638.jpg',\n",
              " '/content/train/top/14099.jpg',\n",
              " '/content/train/top/31307.jpg',\n",
              " '/content/train/top/3738.jpg',\n",
              " '/content/train/top/26278.jpg',\n",
              " '/content/train/top/42224.jpg',\n",
              " '/content/train/top/19851.jpg',\n",
              " '/content/train/top/18234.jpg',\n",
              " '/content/train/top/41194.jpg',\n",
              " '/content/train/top/21219.jpg',\n",
              " '/content/train/top/35447.jpg',\n",
              " '/content/train/top/26939.jpg',\n",
              " '/content/train/top/18742.jpg',\n",
              " '/content/train/top/40400.jpg',\n",
              " '/content/train/top/44341.jpg',\n",
              " '/content/train/top/35268.jpg',\n",
              " '/content/train/top/22042.jpg',\n",
              " '/content/train/top/47011.jpg',\n",
              " '/content/train/top/4804.jpg',\n",
              " '/content/train/top/26716.jpg',\n",
              " '/content/train/top/34267.jpg',\n",
              " '/content/train/top/30143.jpg',\n",
              " '/content/train/top/7850.jpg',\n",
              " '/content/train/top/5455.jpg',\n",
              " '/content/train/top/39856.jpg',\n",
              " '/content/train/top/31582.jpg',\n",
              " '/content/train/top/6599.jpg',\n",
              " '/content/train/top/3783.jpg',\n",
              " '/content/train/top/16822.jpg',\n",
              " '/content/train/top/13792.jpg',\n",
              " '/content/train/top/12826.jpg',\n",
              " '/content/train/top/28529.jpg',\n",
              " '/content/train/top/39074.jpg',\n",
              " '/content/train/top/18571.jpg',\n",
              " '/content/train/top/17273.jpg',\n",
              " '/content/train/top/58372.jpg',\n",
              " '/content/train/top/11781.jpg',\n",
              " '/content/train/top/22752.jpg',\n",
              " '/content/train/top/2162.jpg',\n",
              " '/content/train/top/11084.jpg',\n",
              " '/content/train/top/40093.jpg',\n",
              " '/content/train/top/21858.jpg',\n",
              " '/content/train/top/6259.jpg',\n",
              " '/content/train/top/4959.jpg',\n",
              " '/content/train/top/10764.jpg',\n",
              " '/content/train/top/31151.jpg',\n",
              " '/content/train/top/7049.jpg',\n",
              " '/content/train/top/14673.jpg',\n",
              " '/content/train/top/13995.jpg',\n",
              " '/content/train/top/20132.jpg',\n",
              " '/content/train/top/24390.jpg',\n",
              " '/content/train/top/42176.jpg',\n",
              " '/content/train/top/41405.jpg',\n",
              " '/content/train/top/17552.jpg',\n",
              " '/content/train/top/25556.jpg',\n",
              " '/content/train/top/30324.jpg',\n",
              " '/content/train/top/57133.jpg',\n",
              " '/content/train/top/45835.jpg',\n",
              " '/content/train/top/48418.jpg',\n",
              " '/content/train/top/18294.jpg',\n",
              " '/content/train/top/4761.jpg',\n",
              " '/content/train/top/2848.jpg',\n",
              " '/content/train/top/34376.jpg',\n",
              " '/content/train/top/9630.jpg',\n",
              " '/content/train/top/19989.jpg',\n",
              " '/content/train/top/53124.jpg',\n",
              " '/content/train/top/9974.jpg',\n",
              " '/content/train/top/19718.jpg',\n",
              " '/content/train/top/26792.jpg',\n",
              " '/content/train/top/24985.jpg',\n",
              " '/content/train/top/11708.jpg',\n",
              " '/content/train/top/19984.jpg',\n",
              " '/content/train/top/15183.jpg',\n",
              " '/content/train/top/50344.jpg',\n",
              " '/content/train/top/25832.jpg',\n",
              " '/content/train/top/26936.jpg',\n",
              " '/content/train/top/32222.jpg',\n",
              " '/content/train/top/37743.jpg',\n",
              " '/content/train/top/31060.jpg',\n",
              " '/content/train/top/7645.jpg',\n",
              " '/content/train/top/31259.jpg',\n",
              " '/content/train/top/57200.jpg',\n",
              " '/content/train/top/5126.jpg',\n",
              " '/content/train/top/25780.jpg',\n",
              " '/content/train/top/12567.jpg',\n",
              " '/content/train/top/9667.jpg',\n",
              " '/content/train/top/54945.jpg',\n",
              " '/content/train/top/32421.jpg',\n",
              " '/content/train/top/26077.jpg',\n",
              " '/content/train/top/33019.jpg',\n",
              " '/content/train/top/57285.jpg',\n",
              " '/content/train/top/52069.jpg',\n",
              " '/content/train/top/6055.jpg',\n",
              " '/content/train/top/34272.jpg',\n",
              " '/content/train/top/38581.jpg',\n",
              " '/content/train/top/40067.jpg',\n",
              " '/content/train/top/3681.jpg',\n",
              " '/content/train/top/10610.jpg',\n",
              " '/content/train/top/13289.jpg',\n",
              " '/content/train/top/9636.jpg',\n",
              " '/content/train/top/12207.jpg',\n",
              " '/content/train/top/21400.jpg',\n",
              " '/content/train/top/19154.jpg',\n",
              " '/content/train/top/12800.jpg',\n",
              " '/content/train/top/52068.jpg',\n",
              " '/content/train/top/20259.jpg',\n",
              " '/content/train/top/4057.jpg',\n",
              " '/content/train/top/4188.jpg',\n",
              " '/content/train/top/30747.jpg',\n",
              " '/content/train/top/27890.jpg',\n",
              " '/content/train/top/42537.jpg',\n",
              " '/content/train/top/14533.jpg',\n",
              " '/content/train/top/37796.jpg',\n",
              " '/content/train/top/59910.jpg',\n",
              " '/content/train/top/24873.jpg',\n",
              " '/content/train/top/39177.jpg',\n",
              " '/content/train/top/40566.jpg',\n",
              " '/content/train/top/2232.jpg',\n",
              " '/content/train/top/19328.jpg',\n",
              " '/content/train/top/10693.jpg',\n",
              " '/content/train/top/41583.jpg',\n",
              " '/content/train/top/19663.jpg',\n",
              " '/content/train/top/22637.jpg',\n",
              " '/content/train/top/10067.jpg',\n",
              " '/content/train/top/11432.jpg',\n",
              " '/content/train/top/44857.jpg',\n",
              " '/content/train/top/15971.jpg',\n",
              " '/content/train/top/7641.jpg',\n",
              " '/content/train/top/3485.jpg',\n",
              " '/content/train/top/39472.jpg',\n",
              " '/content/train/top/20324.jpg',\n",
              " '/content/train/top/2275.jpg',\n",
              " '/content/train/top/24049.jpg',\n",
              " '/content/train/top/13760.jpg',\n",
              " '/content/train/top/43702.jpg',\n",
              " '/content/train/top/12136.jpg',\n",
              " '/content/train/top/23876.jpg',\n",
              " '/content/train/top/24037.jpg',\n",
              " '/content/train/top/36563.jpg',\n",
              " '/content/train/top/14991.jpg',\n",
              " '/content/train/top/37769.jpg',\n",
              " '/content/train/top/13662.jpg',\n",
              " '/content/train/top/13449.jpg',\n",
              " '/content/train/top/20253.jpg',\n",
              " '/content/train/top/21923.jpg',\n",
              " '/content/train/top/12296.jpg',\n",
              " '/content/train/top/12789.jpg',\n",
              " '/content/train/top/7951.jpg',\n",
              " '/content/train/top/6610.jpg',\n",
              " '/content/train/top/42566.jpg',\n",
              " '/content/train/top/20001.jpg',\n",
              " '/content/train/top/12799.jpg',\n",
              " '/content/train/top/16642.jpg',\n",
              " '/content/train/top/3532.jpg',\n",
              " '/content/train/top/30946.jpg',\n",
              " '/content/train/top/12387.jpg',\n",
              " '/content/train/top/11996.jpg',\n",
              " '/content/train/top/18882.jpg',\n",
              " '/content/train/top/5969.jpg',\n",
              " '/content/train/top/41588.jpg',\n",
              " '/content/train/top/3794.jpg',\n",
              " '/content/train/top/19727.jpg',\n",
              " '/content/train/top/14519.jpg',\n",
              " '/content/train/top/31365.jpg',\n",
              " '/content/train/top/4910.jpg',\n",
              " '/content/train/top/17195.jpg',\n",
              " '/content/train/top/30140.jpg',\n",
              " '/content/train/top/36830.jpg',\n",
              " '/content/train/top/38603.jpg',\n",
              " '/content/train/top/4214.jpg',\n",
              " '/content/train/top/23140.jpg',\n",
              " '/content/train/top/48248.jpg',\n",
              " '/content/train/top/57160.jpg',\n",
              " '/content/train/top/33585.jpg',\n",
              " '/content/train/top/40185.jpg',\n",
              " '/content/train/top/19333.jpg',\n",
              " '/content/train/top/12583.jpg',\n",
              " '/content/train/top/7551.jpg',\n",
              " '/content/train/top/28992.jpg',\n",
              " '/content/train/top/5154.jpg',\n",
              " '/content/train/top/30346.jpg',\n",
              " '/content/train/top/48432.jpg',\n",
              " '/content/train/top/16321.jpg',\n",
              " '/content/train/top/4925.jpg',\n",
              " '/content/train/top/28861.jpg',\n",
              " '/content/train/top/12662.jpg',\n",
              " '/content/train/top/37739.jpg',\n",
              " '/content/train/top/13397.jpg',\n",
              " '/content/train/top/51449.jpg',\n",
              " '/content/train/top/3338.jpg',\n",
              " '/content/train/top/5935.jpg',\n",
              " '/content/train/top/3442.jpg',\n",
              " '/content/train/top/6229.jpg',\n",
              " '/content/train/top/7412.jpg',\n",
              " '/content/train/top/17628.jpg',\n",
              " '/content/train/top/5184.jpg',\n",
              " '/content/train/top/17720.jpg',\n",
              " '/content/train/top/18574.jpg',\n",
              " '/content/train/top/15842.jpg',\n",
              " '/content/train/top/22482.jpg',\n",
              " '/content/train/top/7453.jpg',\n",
              " '/content/train/top/16933.jpg',\n",
              " '/content/train/top/4202.jpg',\n",
              " '/content/train/top/41777.jpg',\n",
              " '/content/train/top/30788.jpg',\n",
              " '/content/train/top/39175.jpg',\n",
              " '/content/train/top/20095.jpg',\n",
              " '/content/train/top/4876.jpg',\n",
              " '/content/train/top/12105.jpg',\n",
              " '/content/train/top/34268.jpg',\n",
              " '/content/train/top/15013.jpg',\n",
              " '/content/train/top/17192.jpg',\n",
              " '/content/train/top/12640.jpg',\n",
              " '/content/train/top/7679.jpg',\n",
              " '/content/train/top/3266.jpg',\n",
              " '/content/train/top/3425.jpg',\n",
              " '/content/train/top/6211.jpg',\n",
              " '/content/train/top/12049.jpg',\n",
              " '/content/train/top/30307.jpg',\n",
              " '/content/train/top/9559.jpg',\n",
              " '/content/train/top/34378.jpg',\n",
              " '/content/train/top/14055.jpg',\n",
              " '/content/train/top/4866.jpg',\n",
              " '/content/train/top/9458.jpg',\n",
              " '/content/train/top/22082.jpg',\n",
              " '/content/train/top/5111.jpg',\n",
              " '/content/train/top/12123.jpg',\n",
              " '/content/train/top/18224.jpg',\n",
              " '/content/train/top/2969.jpg',\n",
              " '/content/train/top/8805.jpg',\n",
              " '/content/train/top/19721.jpg',\n",
              " '/content/train/top/20207.jpg',\n",
              " '/content/train/top/5101.jpg',\n",
              " '/content/train/top/20012.jpg',\n",
              " '/content/train/top/52083.jpg',\n",
              " '/content/train/top/34583.jpg',\n",
              " '/content/train/top/23306.jpg',\n",
              " '/content/train/top/50347.jpg',\n",
              " '/content/train/top/1861.jpg',\n",
              " '/content/train/top/6569.jpg',\n",
              " '/content/train/top/47029.jpg',\n",
              " '/content/train/top/19145.jpg',\n",
              " '/content/train/top/26390.jpg',\n",
              " '/content/train/top/27101.jpg',\n",
              " '/content/train/top/12847.jpg',\n",
              " '/content/train/top/10467.jpg',\n",
              " '/content/train/top/46359.jpg',\n",
              " '/content/train/top/57080.jpg',\n",
              " '/content/train/top/37757.jpg',\n",
              " '/content/train/top/11567.jpg',\n",
              " '/content/train/top/58005.jpg',\n",
              " '/content/train/top/13419.jpg',\n",
              " '/content/train/top/41799.jpg',\n",
              " '/content/train/top/33249.jpg',\n",
              " '/content/train/top/58698.jpg',\n",
              " '/content/train/top/19584.jpg',\n",
              " '/content/train/top/28834.jpg',\n",
              " '/content/train/top/7473.jpg',\n",
              " '/content/train/top/19785.jpg',\n",
              " '/content/train/top/8382.jpg',\n",
              " '/content/train/top/7181.jpg',\n",
              " '/content/train/top/18919.jpg',\n",
              " '/content/train/top/26388.jpg',\n",
              " '/content/train/top/10454.jpg',\n",
              " '/content/train/top/13414.jpg',\n",
              " '/content/train/top/8454.jpg',\n",
              " '/content/train/top/16271.jpg',\n",
              " '/content/train/top/43662.jpg',\n",
              " '/content/train/top/30310.jpg',\n",
              " '/content/train/top/59892.jpg',\n",
              " '/content/train/top/32926.jpg',\n",
              " '/content/train/top/27087.jpg',\n",
              " '/content/train/top/44292.jpg',\n",
              " '/content/train/top/11725.jpg',\n",
              " '/content/train/top/59922.jpg',\n",
              " '/content/train/top/2978.jpg',\n",
              " '/content/train/top/26719.jpg',\n",
              " '/content/train/top/51431.jpg',\n",
              " '/content/train/top/18291.jpg',\n",
              " '/content/train/top/34092.jpg',\n",
              " '/content/train/top/19094.jpg',\n",
              " '/content/train/top/11430.jpg',\n",
              " '/content/train/top/3903.jpg',\n",
              " '/content/train/top/27102.jpg',\n",
              " '/content/train/top/20376.jpg',\n",
              " '/content/train/top/58565.jpg',\n",
              " '/content/train/top/37919.jpg',\n",
              " '/content/train/top/54987.jpg',\n",
              " '/content/train/top/4865.jpg',\n",
              " '/content/train/top/10423.jpg',\n",
              " '/content/train/top/15606.jpg',\n",
              " '/content/train/top/15558.jpg',\n",
              " '/content/train/top/2985.jpg',\n",
              " '/content/train/top/5941.jpg',\n",
              " '/content/train/top/19162.jpg',\n",
              " '/content/train/top/34316.jpg',\n",
              " '/content/train/top/42109.jpg',\n",
              " '/content/train/top/20343.jpg',\n",
              " '/content/train/top/17916.jpg',\n",
              " '/content/train/top/24940.jpg',\n",
              " '/content/train/top/29598.jpg',\n",
              " '/content/train/top/45731.jpg',\n",
              " '/content/train/top/41408.jpg',\n",
              " '/content/train/top/25791.jpg',\n",
              " '/content/train/top/58807.jpg',\n",
              " '/content/train/top/16399.jpg',\n",
              " '/content/train/top/10493.jpg',\n",
              " '/content/train/top/13961.jpg',\n",
              " '/content/train/top/37570.jpg',\n",
              " '/content/train/top/15831.jpg',\n",
              " '/content/train/top/23644.jpg',\n",
              " '/content/train/top/5093.jpg',\n",
              " '/content/train/top/12088.jpg',\n",
              " '/content/train/top/37801.jpg',\n",
              " '/content/train/top/38792.jpg',\n",
              " '/content/train/top/33552.jpg',\n",
              " '/content/train/top/16035.jpg',\n",
              " '/content/train/top/21126.jpg',\n",
              " '/content/train/top/30875.jpg',\n",
              " '/content/train/top/34476.jpg',\n",
              " '/content/train/top/24529.jpg',\n",
              " '/content/train/top/28847.jpg',\n",
              " '/content/train/top/51415.jpg',\n",
              " '/content/train/top/52156.jpg',\n",
              " '/content/train/top/9522.jpg',\n",
              " '/content/train/top/54907.jpg',\n",
              " '/content/train/top/7650.jpg',\n",
              " '/content/train/top/41775.jpg',\n",
              " '/content/train/top/24516.jpg',\n",
              " '/content/train/top/10463.jpg',\n",
              " '/content/train/top/57069.jpg',\n",
              " '/content/train/top/5960.jpg',\n",
              " '/content/train/top/3260.jpg',\n",
              " '/content/train/top/4370.jpg',\n",
              " '/content/train/top/40600.jpg',\n",
              " '/content/train/top/10008.jpg',\n",
              " '/content/train/top/44910.jpg',\n",
              " '/content/train/top/34171.jpg',\n",
              " '/content/train/top/57164.jpg',\n",
              " '/content/train/top/4297.jpg',\n",
              " '/content/train/top/41594.jpg',\n",
              " '/content/train/top/16991.jpg',\n",
              " '/content/train/top/5992.jpg',\n",
              " '/content/train/top/4864.jpg',\n",
              " '/content/train/top/6064.jpg',\n",
              " '/content/train/top/4899.jpg',\n",
              " '/content/train/top/13391.jpg',\n",
              " '/content/train/top/24156.jpg',\n",
              " '/content/train/top/58655.jpg',\n",
              " '/content/train/top/8866.jpg',\n",
              " '/content/train/top/21930.jpg',\n",
              " '/content/train/top/9256.jpg',\n",
              " '/content/train/top/8341.jpg',\n",
              " '/content/train/top/29786.jpg',\n",
              " '/content/train/top/3950.jpg',\n",
              " '/content/train/top/7539.jpg',\n",
              " '/content/train/top/34178.jpg',\n",
              " '/content/train/top/1613.jpg',\n",
              " '/content/train/top/17921.jpg',\n",
              " '/content/train/top/56649.jpg',\n",
              " '/content/train/top/30915.jpg',\n",
              " '/content/train/top/4235.jpg',\n",
              " '/content/train/top/33289.jpg',\n",
              " '/content/train/top/2121.jpg',\n",
              " '/content/train/top/40943.jpg',\n",
              " '/content/train/top/39223.jpg',\n",
              " '/content/train/top/49772.jpg',\n",
              " '/content/train/top/7686.jpg',\n",
              " '/content/train/top/11630.jpg',\n",
              " '/content/train/top/44808.jpg',\n",
              " '/content/train/top/48426.jpg',\n",
              " '/content/train/top/13427.jpg',\n",
              " '/content/train/top/41782.jpg',\n",
              " '/content/train/top/27553.jpg',\n",
              " '/content/train/top/48419.jpg',\n",
              " '/content/train/top/50340.jpg',\n",
              " '/content/train/top/23966.jpg',\n",
              " '/content/train/top/34942.jpg',\n",
              " '/content/train/top/25784.jpg',\n",
              " '/content/train/top/14312.jpg',\n",
              " '/content/train/top/13997.jpg',\n",
              " '/content/train/top/15036.jpg',\n",
              " '/content/train/top/11014.jpg',\n",
              " '/content/train/top/19833.jpg',\n",
              " '/content/train/top/8470.jpg',\n",
              " '/content/train/top/10007.jpg',\n",
              " '/content/train/top/22354.jpg',\n",
              " '/content/train/top/16900.jpg',\n",
              " '/content/train/top/20790.jpg',\n",
              " '/content/train/top/52148.jpg',\n",
              " '/content/train/top/9708.jpg',\n",
              " '/content/train/top/1973.jpg',\n",
              " '/content/train/top/11450.jpg',\n",
              " '/content/train/top/31875.jpg',\n",
              " '/content/train/top/37753.jpg',\n",
              " '/content/train/top/57310.jpg',\n",
              " '/content/train/top/1809.jpg',\n",
              " '/content/train/top/21364.jpg',\n",
              " '/content/train/top/30955.jpg',\n",
              " '/content/train/top/12626.jpg',\n",
              " '/content/train/top/26473.jpg',\n",
              " '/content/train/top/5489.jpg',\n",
              " '/content/train/top/28542.jpg',\n",
              " '/content/train/top/11269.jpg',\n",
              " '/content/train/top/11048.jpg',\n",
              " '/content/train/top/42395.jpg',\n",
              " '/content/train/top/33033.jpg',\n",
              " '/content/train/top/15528.jpg',\n",
              " '/content/train/top/57168.jpg',\n",
              " '/content/train/top/54090.jpg',\n",
              " '/content/train/top/24170.jpg',\n",
              " '/content/train/top/27649.jpg',\n",
              " '/content/train/top/3269.jpg',\n",
              " '/content/train/top/22356.jpg',\n",
              " '/content/train/top/26957.jpg',\n",
              " '/content/train/top/8437.jpg',\n",
              " '/content/train/top/1668.jpg',\n",
              " '/content/train/top/20233.jpg',\n",
              " '/content/train/top/27554.jpg',\n",
              " '/content/train/top/29369.jpg',\n",
              " '/content/train/top/34228.jpg',\n",
              " '/content/train/top/8272.jpg',\n",
              " '/content/train/top/51414.jpg',\n",
              " '/content/train/top/54890.jpg',\n",
              " '/content/train/top/48513.jpg',\n",
              " '/content/train/top/15836.jpg',\n",
              " '/content/train/top/20306.jpg',\n",
              " '/content/train/top/19321.jpg',\n",
              " '/content/train/top/22792.jpg',\n",
              " '/content/train/top/7173.jpg',\n",
              " '/content/train/top/2268.jpg',\n",
              " '/content/train/top/24499.jpg',\n",
              " '/content/train/top/11529.jpg',\n",
              " '/content/train/top/10642.jpg',\n",
              " '/content/train/top/2732.jpg',\n",
              " '/content/train/top/10070.jpg',\n",
              " '/content/train/top/4926.jpg',\n",
              " '/content/train/top/13335.jpg',\n",
              " '/content/train/top/17901.jpg',\n",
              " '/content/train/top/39174.jpg',\n",
              " '/content/train/top/19976.jpg',\n",
              " '/content/train/top/32240.jpg',\n",
              " '/content/train/top/5199.jpg',\n",
              " '/content/train/top/10066.jpg',\n",
              " '/content/train/top/49941.jpg',\n",
              " '/content/train/top/42123.jpg',\n",
              " '/content/train/top/38982.jpg',\n",
              " '/content/train/top/18958.jpg',\n",
              " '/content/train/top/12329.jpg',\n",
              " '/content/train/top/51458.jpg',\n",
              " '/content/train/top/23953.jpg',\n",
              " '/content/train/top/25777.jpg',\n",
              " '/content/train/top/11740.jpg',\n",
              " '/content/train/top/19186.jpg',\n",
              " '/content/train/top/8719.jpg',\n",
              " '/content/train/top/32395.jpg',\n",
              " '/content/train/top/4789.jpg',\n",
              " '/content/train/top/3995.jpg',\n",
              " '/content/train/top/31132.jpg',\n",
              " '/content/train/top/51412.jpg',\n",
              " '/content/train/top/24129.jpg',\n",
              " '/content/train/top/18984.jpg',\n",
              " '/content/train/top/46811.jpg',\n",
              " '/content/train/top/44680.jpg',\n",
              " '/content/train/top/13754.jpg',\n",
              " '/content/train/top/11449.jpg',\n",
              " '/content/train/top/37160.jpg',\n",
              " '/content/train/top/1615.jpg',\n",
              " '/content/train/top/7152.jpg',\n",
              " '/content/train/top/54953.jpg',\n",
              " '/content/train/top/41391.jpg',\n",
              " '/content/train/top/21373.jpg',\n",
              " '/content/train/top/12757.jpg',\n",
              " '/content/train/top/40143.jpg',\n",
              " '/content/train/top/13753.jpg',\n",
              " '/content/train/top/47020.jpg',\n",
              " '/content/train/top/39743.jpg',\n",
              " '/content/train/top/18277.jpg',\n",
              " '/content/train/top/7819.jpg',\n",
              " '/content/train/top/54687.jpg',\n",
              " '/content/train/top/58507.jpg',\n",
              " '/content/train/top/39450.jpg',\n",
              " '/content/train/top/26396.jpg',\n",
              " '/content/train/top/9457.jpg',\n",
              " '/content/train/top/2007.jpg',\n",
              " '/content/train/top/3445.jpg',\n",
              " '/content/train/top/19198.jpg',\n",
              " '/content/train/top/7963.jpg',\n",
              " '/content/train/top/14627.jpg',\n",
              " '/content/train/top/7499.jpg',\n",
              " '/content/train/top/51478.jpg',\n",
              " '/content/train/top/16441.jpg',\n",
              " '/content/train/top/6016.jpg',\n",
              " '/content/train/top/8455.jpg',\n",
              " '/content/train/top/16029.jpg',\n",
              " '/content/train/top/26904.jpg',\n",
              " '/content/train/top/26951.jpg',\n",
              " '/content/train/top/23874.jpg',\n",
              " '/content/train/top/20022.jpg',\n",
              " '/content/train/top/29702.jpg',\n",
              " '/content/train/top/14661.jpg',\n",
              " '/content/train/top/28564.jpg',\n",
              " '/content/train/top/15478.jpg',\n",
              " '/content/train/top/13221.jpg',\n",
              " '/content/train/top/28721.jpg',\n",
              " '/content/train/top/31176.jpg',\n",
              " '/content/train/top/38328.jpg',\n",
              " '/content/train/top/4793.jpg',\n",
              " '/content/train/top/9540.jpg',\n",
              " '/content/train/top/26901.jpg',\n",
              " '/content/train/top/7362.jpg',\n",
              " '/content/train/top/10715.jpg',\n",
              " '/content/train/top/35987.jpg',\n",
              " '/content/train/top/25007.jpg',\n",
              " '/content/train/top/11092.jpg',\n",
              " '/content/train/top/24593.jpg',\n",
              " '/content/train/top/39780.jpg',\n",
              " '/content/train/top/21141.jpg',\n",
              " '/content/train/top/24401.jpg',\n",
              " '/content/train/top/29838.jpg',\n",
              " '/content/train/top/19640.jpg',\n",
              " '/content/train/top/10803.jpg',\n",
              " '/content/train/top/31120.jpg',\n",
              " '/content/train/top/21156.jpg',\n",
              " '/content/train/top/22484.jpg',\n",
              " '/content/train/top/58691.jpg',\n",
              " '/content/train/top/27361.jpg',\n",
              " '/content/train/top/12242.jpg',\n",
              " '/content/train/top/13507.jpg',\n",
              " '/content/train/top/57029.jpg',\n",
              " '/content/train/top/4205.jpg',\n",
              " '/content/train/top/12249.jpg',\n",
              " '/content/train/top/31239.jpg',\n",
              " '/content/train/top/8861.jpg',\n",
              " '/content/train/top/34185.jpg',\n",
              " '/content/train/top/14310.jpg',\n",
              " '/content/train/top/6769.jpg',\n",
              " '/content/train/top/34274.jpg',\n",
              " '/content/train/top/34498.jpg',\n",
              " '/content/train/top/31102.jpg',\n",
              " '/content/train/top/39451.jpg',\n",
              " '/content/train/top/44696.jpg',\n",
              " '/content/train/top/15033.jpg',\n",
              " '/content/train/top/4928.jpg',\n",
              " '/content/train/top/38285.jpg',\n",
              " '/content/train/top/19054.jpg',\n",
              " '/content/train/top/26478.jpg',\n",
              " '/content/train/top/16393.jpg',\n",
              " '/content/train/top/17505.jpg',\n",
              " '/content/train/top/33954.jpg',\n",
              " '/content/train/top/25529.jpg',\n",
              " '/content/train/top/4186.jpg',\n",
              " '/content/train/top/16388.jpg',\n",
              " '/content/train/top/40984.jpg',\n",
              " '/content/train/top/12087.jpg',\n",
              " '/content/train/top/11111.jpg',\n",
              " '/content/train/top/59129.jpg',\n",
              " '/content/train/top/54889.jpg',\n",
              " '/content/train/top/10675.jpg',\n",
              " '/content/train/top/6160.jpg',\n",
              " '/content/train/top/7138.jpg',\n",
              " '/content/train/top/2486.jpg',\n",
              " '/content/train/top/15628.jpg',\n",
              " '/content/train/top/34339.jpg',\n",
              " '/content/train/top/5021.jpg',\n",
              " '/content/train/top/38600.jpg',\n",
              " '/content/train/top/2557.jpg',\n",
              " '/content/train/top/13500.jpg',\n",
              " '/content/train/top/4054.jpg',\n",
              " '/content/train/top/4265.jpg',\n",
              " '/content/train/top/37594.jpg',\n",
              " '/content/train/top/47010.jpg',\n",
              " '/content/train/top/11355.jpg',\n",
              " '/content/train/top/3544.jpg',\n",
              " '/content/train/top/40040.jpg',\n",
              " '/content/train/top/46288.jpg',\n",
              " '/content/train/top/8802.jpg',\n",
              " '/content/train/top/47028.jpg',\n",
              " '/content/train/top/11592.jpg',\n",
              " '/content/train/top/18923.jpg',\n",
              " '/content/train/top/19717.jpg',\n",
              " '/content/train/top/3889.jpg',\n",
              " '/content/train/top/13735.jpg',\n",
              " '/content/train/top/28539.jpg',\n",
              " '/content/train/top/59454.jpg',\n",
              " '/content/train/top/34096.jpg',\n",
              " '/content/train/top/5544.jpg',\n",
              " '/content/train/top/6020.jpg',\n",
              " '/content/train/top/22630.jpg',\n",
              " '/content/train/top/39728.jpg',\n",
              " '/content/train/top/48416.jpg',\n",
              " '/content/train/top/19744.jpg',\n",
              " '/content/train/top/24363.jpg',\n",
              " '/content/train/top/28747.jpg',\n",
              " '/content/train/top/32403.jpg',\n",
              " '/content/train/top/28761.jpg',\n",
              " '/content/train/top/22614.jpg',\n",
              " '/content/train/top/16552.jpg',\n",
              " '/content/train/top/33993.jpg',\n",
              " '/content/train/top/13332.jpg',\n",
              " '/content/train/top/2065.jpg',\n",
              " '/content/train/top/30119.jpg',\n",
              " '/content/train/top/40947.jpg',\n",
              " '/content/train/top/26816.jpg',\n",
              " '/content/train/top/2314.jpg',\n",
              " '/content/train/top/22331.jpg',\n",
              " '/content/train/top/39784.jpg',\n",
              " '/content/train/top/10570.jpg',\n",
              " '/content/train/top/8889.jpg',\n",
              " '/content/train/top/38984.jpg',\n",
              " '/content/train/top/20384.jpg',\n",
              " '/content/train/top/17262.jpg',\n",
              " '/content/train/top/25542.jpg',\n",
              " '/content/train/top/53112.jpg',\n",
              " '/content/train/top/28545.jpg',\n",
              " '/content/train/top/42392.jpg',\n",
              " '/content/train/top/11023.jpg',\n",
              " '/content/train/top/58508.jpg',\n",
              " '/content/train/top/10324.jpg',\n",
              " '/content/train/top/34913.jpg',\n",
              " '/content/train/top/39721.jpg',\n",
              " '/content/train/top/2006.jpg',\n",
              " '/content/train/top/8435.jpg',\n",
              " '/content/train/top/54937.jpg',\n",
              " '/content/train/top/13953.jpg',\n",
              " '/content/train/top/48488.jpg',\n",
              " '/content/train/top/7418.jpg',\n",
              " '/content/train/top/4212.jpg',\n",
              " '/content/train/top/11119.jpg',\n",
              " '/content/train/top/15187.jpg',\n",
              " '/content/train/top/9862.jpg',\n",
              " '/content/train/top/33755.jpg',\n",
              " '/content/train/top/34910.jpg',\n",
              " '/content/train/top/32639.jpg',\n",
              " '/content/train/top/2334.jpg',\n",
              " '/content/train/top/38389.jpg',\n",
              " '/content/train/top/9620.jpg',\n",
              " '/content/train/top/32503.jpg',\n",
              " '/content/train/top/8040.jpg',\n",
              " '/content/train/top/23161.jpg',\n",
              " '/content/train/top/43488.jpg',\n",
              " '/content/train/top/58009.jpg',\n",
              " '/content/train/top/40064.jpg',\n",
              " '/content/train/top/4432.jpg',\n",
              " '/content/train/top/12844.jpg',\n",
              " '/content/train/top/15372.jpg',\n",
              " '/content/train/top/24291.jpg',\n",
              " '/content/train/top/31288.jpg',\n",
              " '/content/train/top/3346.jpg',\n",
              " '/content/train/top/42215.jpg',\n",
              " '/content/train/top/16493.jpg',\n",
              " '/content/train/top/18747.jpg',\n",
              " '/content/train/top/38947.jpg',\n",
              " '/content/train/top/11587.jpg',\n",
              " '/content/train/top/30872.jpg',\n",
              " '/content/train/top/28547.jpg',\n",
              " '/content/train/top/34436.jpg',\n",
              " '/content/train/top/9863.jpg',\n",
              " '/content/train/top/54566.jpg',\n",
              " '/content/train/top/16032.jpg',\n",
              " '/content/train/top/39782.jpg',\n",
              " '/content/train/top/23060.jpg',\n",
              " '/content/train/top/12917.jpg',\n",
              " '/content/train/top/34573.jpg',\n",
              " '/content/train/top/12831.jpg',\n",
              " '/content/train/top/23028.jpg',\n",
              " '/content/train/top/33218.jpg',\n",
              " '/content/train/top/20177.jpg',\n",
              " '/content/train/top/14534.jpg',\n",
              " '/content/train/top/40675.jpg',\n",
              " '/content/train/top/9422.jpg',\n",
              " '/content/train/top/7463.jpg',\n",
              " '/content/train/top/40567.jpg',\n",
              " '/content/train/top/4767.jpg',\n",
              " '/content/train/top/58684.jpg',\n",
              " '/content/train/top/19459.jpg',\n",
              " '/content/train/top/34402.jpg',\n",
              " '/content/train/top/30122.jpg',\n",
              " '/content/train/top/24233.jpg',\n",
              " '/content/train/top/12211.jpg',\n",
              " '/content/train/top/22067.jpg',\n",
              " '/content/train/top/13845.jpg',\n",
              " '/content/train/top/28641.jpg',\n",
              " '/content/train/top/16792.jpg',\n",
              " '/content/train/top/31158.jpg',\n",
              " '/content/train/top/17807.jpg',\n",
              " '/content/train/top/33021.jpg',\n",
              " '/content/train/top/9461.jpg',\n",
              " '/content/train/top/24498.jpg',\n",
              " '/content/train/top/39732.jpg',\n",
              " '/content/train/top/28575.jpg',\n",
              " '/content/train/top/28524.jpg',\n",
              " '/content/train/top/26883.jpg',\n",
              " '/content/train/top/6869.jpg',\n",
              " '/content/train/top/16648.jpg',\n",
              " '/content/train/top/42164.jpg',\n",
              " '/content/train/top/43270.jpg',\n",
              " '/content/train/top/15701.jpg',\n",
              " '/content/train/top/24550.jpg',\n",
              " '/content/train/top/4262.jpg',\n",
              " '/content/train/top/57191.jpg',\n",
              " '/content/train/top/34218.jpg',\n",
              " '/content/train/top/44862.jpg',\n",
              " '/content/train/top/13729.jpg',\n",
              " '/content/train/top/57286.jpg',\n",
              " '/content/train/top/34936.jpg',\n",
              " '/content/train/top/52058.jpg',\n",
              " '/content/train/top/39857.jpg',\n",
              " '/content/train/top/6116.jpg',\n",
              " '/content/train/top/3023.jpg',\n",
              " '/content/train/top/41012.jpg',\n",
              " '/content/train/top/14007.jpg',\n",
              " '/content/train/top/17919.jpg',\n",
              " '/content/train/top/9245.jpg',\n",
              " '/content/train/top/40944.jpg',\n",
              " '/content/train/top/5848.jpg',\n",
              " '/content/train/top/21893.jpg',\n",
              " '/content/train/top/46831.jpg',\n",
              " '/content/train/top/21157.jpg',\n",
              " '/content/train/top/11422.jpg',\n",
              " '/content/train/top/19784.jpg',\n",
              " '/content/train/top/21024.jpg',\n",
              " '/content/train/top/14119.jpg',\n",
              " '/content/train/top/12047.jpg',\n",
              " '/content/train/top/21896.jpg',\n",
              " '/content/train/top/26482.jpg',\n",
              " '/content/train/top/19529.jpg',\n",
              " '/content/train/top/6219.jpg',\n",
              " '/content/train/top/23441.jpg',\n",
              " '/content/train/top/12840.jpg',\n",
              " '/content/train/top/2131.jpg',\n",
              " '/content/train/top/23539.jpg',\n",
              " '/content/train/top/11144.jpg',\n",
              " '/content/train/top/48250.jpg',\n",
              " '/content/train/top/40078.jpg',\n",
              " '/content/train/top/34938.jpg',\n",
              " '/content/train/top/23226.jpg',\n",
              " '/content/train/top/8800.jpg',\n",
              " '/content/train/top/11013.jpg',\n",
              " '/content/train/top/18266.jpg',\n",
              " '/content/train/top/25006.jpg',\n",
              " '/content/train/top/28958.jpg',\n",
              " '/content/train/top/54146.jpg',\n",
              " '/content/train/top/38332.jpg',\n",
              " '/content/train/top/7793.jpg',\n",
              " '/content/train/top/38959.jpg',\n",
              " '/content/train/top/29145.jpg',\n",
              " '/content/train/top/3528.jpg',\n",
              " '/content/train/top/34479.jpg',\n",
              " '/content/train/top/48403.jpg',\n",
              " '/content/train/top/14324.jpg',\n",
              " '/content/train/top/3272.jpg',\n",
              " '/content/train/top/40140.jpg',\n",
              " '/content/train/top/4392.jpg',\n",
              " '/content/train/top/48518.jpg',\n",
              " '/content/train/top/40582.jpg',\n",
              " '/content/train/top/37622.jpg',\n",
              " '/content/train/top/37945.jpg',\n",
              " '/content/train/top/58744.jpg',\n",
              " '/content/train/top/3533.jpg',\n",
              " '/content/train/top/37797.jpg',\n",
              " '/content/train/top/35453.jpg',\n",
              " '/content/train/top/30755.jpg',\n",
              " '/content/train/top/7273.jpg',\n",
              " '/content/train/top/52076.jpg',\n",
              " '/content/train/top/5745.jpg',\n",
              " '/content/train/top/57201.jpg',\n",
              " '/content/train/top/37918.jpg',\n",
              " '/content/train/top/8898.jpg',\n",
              " '/content/train/top/41972.jpg',\n",
              " '/content/train/top/11527.jpg',\n",
              " '/content/train/top/5973.jpg',\n",
              " '/content/train/top/14308.jpg',\n",
              " '/content/train/top/3730.jpg',\n",
              " '/content/train/top/47662.jpg',\n",
              " '/content/train/top/18625.jpg',\n",
              " '/content/train/top/39172.jpg',\n",
              " '/content/train/top/26905.jpg',\n",
              " '/content/train/top/43484.jpg',\n",
              " '/content/train/top/33178.jpg',\n",
              " '/content/train/top/31463.jpg',\n",
              " '/content/train/top/32393.jpg',\n",
              " '/content/train/top/41495.jpg',\n",
              " '/content/train/top/33305.jpg',\n",
              " '/content/train/top/6225.jpg',\n",
              " '/content/train/top/12151.jpg',\n",
              " '/content/train/top/28850.jpg',\n",
              " '/content/train/top/28859.jpg',\n",
              " '/content/train/top/11059.jpg',\n",
              " '/content/train/top/8295.jpg',\n",
              " '/content/train/top/11105.jpg',\n",
              " '/content/train/top/18732.jpg',\n",
              " '/content/train/top/14532.jpg',\n",
              " '/content/train/top/32652.jpg',\n",
              " '/content/train/top/4249.jpg',\n",
              " '/content/train/top/17609.jpg',\n",
              " '/content/train/top/4465.jpg',\n",
              " '/content/train/top/59405.jpg',\n",
              " '/content/train/top/40922.jpg',\n",
              " '/content/train/top/23193.jpg',\n",
              " '/content/train/top/10691.jpg',\n",
              " '/content/train/top/11736.jpg',\n",
              " '/content/train/top/9710.jpg',\n",
              " '/content/train/top/24407.jpg',\n",
              " '/content/train/top/40383.jpg',\n",
              " '/content/train/top/19803.jpg',\n",
              " '/content/train/top/12622.jpg',\n",
              " '/content/train/top/11085.jpg',\n",
              " '/content/train/top/2971.jpg',\n",
              " '/content/train/top/57296.jpg',\n",
              " '/content/train/top/2324.jpg',\n",
              " '/content/train/top/26865.jpg',\n",
              " '/content/train/top/54900.jpg',\n",
              " '/content/train/top/32624.jpg',\n",
              " '/content/train/top/18733.jpg',\n",
              " '/content/train/top/2132.jpg',\n",
              " '/content/train/top/28727.jpg',\n",
              " '/content/train/top/3355.jpg',\n",
              " '/content/train/top/38326.jpg',\n",
              " '/content/train/top/27105.jpg',\n",
              " '/content/train/top/24574.jpg',\n",
              " '/content/train/top/17514.jpg',\n",
              " '/content/train/top/15983.jpg',\n",
              " '/content/train/top/3936.jpg',\n",
              " '/content/train/top/31937.jpg',\n",
              " '/content/train/top/57198.jpg',\n",
              " '/content/train/top/6904.jpg',\n",
              " '/content/train/top/6105.jpg',\n",
              " '/content/train/top/30911.jpg',\n",
              " '/content/train/top/27595.jpg',\n",
              " '/content/train/top/27888.jpg',\n",
              " '/content/train/top/5095.jpg',\n",
              " '/content/train/top/3285.jpg',\n",
              " '/content/train/top/23032.jpg',\n",
              " '/content/train/top/6161.jpg',\n",
              " '/content/train/top/19530.jpg',\n",
              " '/content/train/top/21113.jpg',\n",
              " '/content/train/top/58690.jpg',\n",
              " '/content/train/top/21887.jpg',\n",
              " '/content/train/top/26955.jpg',\n",
              " '/content/train/top/17539.jpg',\n",
              " '/content/train/top/3947.jpg',\n",
              " '/content/train/top/26263.jpg',\n",
              " '/content/train/top/12884.jpg',\n",
              " '/content/train/top/20251.jpg',\n",
              " '/content/train/top/8783.jpg',\n",
              " '/content/train/top/41605.jpg',\n",
              " '/content/train/top/37150.jpg',\n",
              " '/content/train/top/38884.jpg',\n",
              " '/content/train/top/11568.jpg',\n",
              " '/content/train/top/7471.jpg',\n",
              " '/content/train/top/20124.jpg',\n",
              " '/content/train/top/33975.jpg',\n",
              " '/content/train/top/31314.jpg',\n",
              " '/content/train/top/48420.jpg',\n",
              " '/content/train/top/24404.jpg',\n",
              " '/content/train/top/23309.jpg',\n",
              " '/content/train/top/22373.jpg',\n",
              " '/content/train/top/39719.jpg',\n",
              " '/content/train/top/42531.jpg',\n",
              " '/content/train/top/32450.jpg',\n",
              " '/content/train/top/36239.jpg',\n",
              " '/content/train/top/34221.jpg',\n",
              " '/content/train/top/13950.jpg',\n",
              " '/content/train/top/40948.jpg',\n",
              " '/content/train/top/29837.jpg',\n",
              " '/content/train/top/3894.jpg',\n",
              " '/content/train/top/50349.jpg',\n",
              " '/content/train/top/12598.jpg',\n",
              " '/content/train/top/51446.jpg',\n",
              " '/content/train/top/43332.jpg',\n",
              " '/content/train/top/4720.jpg',\n",
              " '/content/train/top/7957.jpg',\n",
              " '/content/train/top/22475.jpg',\n",
              " '/content/train/top/7859.jpg',\n",
              " '/content/train/top/57815.jpg',\n",
              " '/content/train/top/31309.jpg',\n",
              " '/content/train/top/15320.jpg',\n",
              " '/content/train/top/8372.jpg',\n",
              " '/content/train/top/4769.jpg',\n",
              " '/content/train/top/12093.jpg',\n",
              " '/content/train/top/32209.jpg',\n",
              " '/content/train/top/19149.jpg',\n",
              " '/content/train/top/36716.jpg',\n",
              " '/content/train/top/33026.jpg',\n",
              " '/content/train/top/19749.jpg',\n",
              " '/content/train/top/4377.jpg',\n",
              " '/content/train/top/18862.jpg',\n",
              " '/content/train/top/39834.jpg',\n",
              " '/content/train/top/2155.jpg',\n",
              " '/content/train/top/42670.jpg',\n",
              " '/content/train/top/2970.jpg',\n",
              " '/content/train/top/57103.jpg',\n",
              " '/content/train/top/39005.jpg',\n",
              " '/content/train/top/42210.jpg',\n",
              " '/content/train/top/34408.jpg',\n",
              " '/content/train/top/9260.jpg',\n",
              " '/content/train/top/43921.jpg',\n",
              " '/content/train/top/4461.jpg',\n",
              " '/content/train/top/44874.jpg',\n",
              " '/content/train/top/10031.jpg',\n",
              " '/content/train/top/6471.jpg',\n",
              " '/content/train/top/48404.jpg',\n",
              " '/content/train/top/12636.jpg',\n",
              " '/content/train/top/43061.jpg',\n",
              " '/content/train/top/28853.jpg',\n",
              " '/content/train/top/11532.jpg',\n",
              " '/content/train/top/10566.jpg',\n",
              " '/content/train/top/27374.jpg',\n",
              " '/content/train/top/37093.jpg',\n",
              " '/content/train/top/16122.jpg',\n",
              " '/content/train/top/18570.jpg',\n",
              " '/content/train/top/20236.jpg',\n",
              " '/content/train/top/37735.jpg',\n",
              " '/content/train/top/44836.jpg',\n",
              " '/content/train/top/2956.jpg',\n",
              " '/content/train/top/5982.jpg',\n",
              " '/content/train/top/4368.jpg',\n",
              " '/content/train/top/30762.jpg',\n",
              " '/content/train/top/41983.jpg',\n",
              " '/content/train/top/27873.jpg',\n",
              " '/content/train/top/34576.jpg',\n",
              " '/content/train/top/36296.jpg',\n",
              " '/content/train/top/11399.jpg',\n",
              " '/content/train/top/5527.jpg',\n",
              " '/content/train/top/57177.jpg',\n",
              " '/content/train/top/52071.jpg',\n",
              " '/content/train/top/31266.jpg',\n",
              " '/content/train/top/22597.jpg',\n",
              " '/content/train/top/23307.jpg',\n",
              " '/content/train/top/33245.jpg',\n",
              " '/content/train/top/3734.jpg',\n",
              " '/content/train/top/30743.jpg',\n",
              " '/content/train/top/7703.jpg',\n",
              " '/content/train/top/7503.jpg',\n",
              " '/content/train/top/27848.jpg',\n",
              " ...]"
            ]
          },
          "metadata": {},
          "execution_count": 17
        }
      ],
      "source": [
        "top_img = glob.glob('/content/train/top/*')\n",
        "top_img"
      ]
    },
    {
      "cell_type": "code",
      "execution_count": 18,
      "metadata": {
        "id": "4PYJstKdAq1S"
      },
      "outputs": [],
      "source": [
        "bot_img = glob.glob('/content/train/bottom/*')"
      ]
    },
    {
      "cell_type": "code",
      "execution_count": 19,
      "metadata": {
        "id": "dtQPQYDc7bTo"
      },
      "outputs": [],
      "source": [
        "# cv2를 이용해 이미지를 읽는 함수 정의\n",
        "def read_img(file_path):\n",
        "    img_arr = cv2.imread(file_path)\n",
        "    return cv2.cvtColor(img_arr, cv2.COLOR_BGR2RGB) # cvtColor로 BGR을 RGB로 바꿔줌"
      ]
    },
    {
      "cell_type": "code",
      "execution_count": 20,
      "metadata": {
        "id": "OipOtfMtAygF"
      },
      "outputs": [],
      "source": [
        "# 각 이미지 폴더에서 3개씩 랜덤으로 이미지 시각화 하기\n",
        "\n",
        "# 이미지 array 준비\n",
        "import random\n",
        "img_arrs = []\n",
        "img_num = range(0,300)\n",
        "\n",
        "for i in random.sample(img_num,2):\n",
        "    \n",
        "    img_arrs.append(read_img(top_img[i]))\n",
        "    img_arrs.append(read_img(bot_img[i]))\n"
      ]
    },
    {
      "cell_type": "code",
      "execution_count": 21,
      "metadata": {
        "colab": {
          "base_uri": "https://localhost:8080/",
          "height": 289
        },
        "id": "8EsSibTI7iDY",
        "outputId": "351f71c1-28b3-4e68-da64-ced442afe385"
      },
      "outputs": [
        {
          "output_type": "display_data",
          "data": {
            "text/plain": [
              "<Figure size 288x288 with 8 Axes>"
            ],
            "image/png": "[encoded data removed]"
          },
          "metadata": {
            "needs_background": "light"
          }
        }
      ],
      "source": [
        "rows = 2 # 3개씩 샘플링 했으므로\n",
        "columns = 2\n",
        "\n",
        "# 그림판 설정\n",
        "fig, axes = plt.subplots(nrows=rows, ncols=columns, figsize=(columns*2, rows*2))\n",
        "\n",
        "# 각 판에 이미지 출력\n",
        "for num in range(1, rows*columns+1): # 1번 부터 9번 까지\n",
        "    \n",
        "    fig.add_subplot(rows, columns, num) # 원하는 위치 번호(num)를 입력\n",
        "    idx = num - 1 # 인덱스\n",
        "    \n",
        "    plt.imshow(img_arrs[idx], aspect='auto')\n",
        "    plt.xlabel(f'{img_arrs[idx].shape}', fontsize=12)\n",
        "\n",
        "fig.tight_layout() # 이미지 사이 간격 조정\n",
        "\n",
        "\n",
        "\n",
        "# 제목 설정\n",
        "cols = ['top', 'bottom']\n",
        "\n",
        "for folder_idx, ax in enumerate(axes[0]):\n",
        "    ax.set_title(cols[folder_idx])\n",
        "\n",
        "# xtick, ytick 제거\n",
        "for idx, ax in enumerate(axes.flat):\n",
        "    ax.set_xticks([])\n",
        "    ax.set_yticks([])"
      ]
    },
    {
      "cell_type": "markdown",
      "metadata": {
        "id": "aB0rbpsIDOZy"
      },
      "source": [
        "# DataLoader 정의"
      ]
    },
    {
      "cell_type": "code",
      "execution_count": 22,
      "metadata": {
        "id": "8DS8WKmIDiN4"
      },
      "outputs": [],
      "source": [
        "import torch\n",
        "import torchvision\n",
        "from torchvision import transforms # 이미지 데이터 transform\n",
        "from torch.utils.data import DataLoader # 이미지 데이터 로더"
      ]
    },
    {
      "cell_type": "code",
      "execution_count": 23,
      "metadata": {
        "id": "C0Oem_OyDlWy"
      },
      "outputs": [],
      "source": [
        "device = 'cuda' if torch.cuda.is_available() else 'cpu'\n",
        "\n",
        "torch.manual_seed(777)\n",
        "if device == 'cuda':\n",
        "  torch.cuda.manual_seed_all(777)"
      ]
    },
    {
      "cell_type": "code",
      "execution_count": 24,
      "metadata": {
        "id": "zW4PW5FqDrMs"
      },
      "outputs": [],
      "source": [
        "# 경로 지정\n",
        "\n",
        "train_path = '/content/train/'\n",
        "test_path = '/content/test'"
      ]
    },
    {
      "cell_type": "markdown",
      "metadata": {
        "id": "PbhdR-uGEcGS"
      },
      "source": [
        "## Reshape"
      ]
    },
    {
      "cell_type": "code",
      "execution_count": 25,
      "metadata": {
        "id": "4eGZckXdDOq9"
      },
      "outputs": [],
      "source": [
        "resize_trans = transforms.Compose([\n",
        "                                   transforms.Resize((224,224)),\n",
        "                                   transforms.ToTensor()\n",
        "])\n",
        "\n",
        "resize_train = torchvision.datasets.ImageFolder(root=train_path, transform=resize_trans)\n",
        "resize_test = torchvision.datasets.ImageFolder(root=test_path, transform=resize_trans)"
      ]
    },
    {
      "cell_type": "code",
      "execution_count": 26,
      "metadata": {
        "colab": {
          "base_uri": "https://localhost:8080/"
        },
        "id": "aa83c38gD1HA",
        "outputId": "da3f224d-f241-4df2-9a43-f91eed192a5f"
      },
      "outputs": [
        {
          "output_type": "execute_result",
          "data": {
            "text/plain": [
              "torch.Size([3, 224, 224])"
            ]
          },
          "metadata": {},
          "execution_count": 26
        }
      ],
      "source": [
        "resize_train[0][0].shape # ToTensor를 진행했기 때문에 데이터가 torch(C,H,W) 형태로 바뀜"
      ]
    },
    {
      "cell_type": "markdown",
      "metadata": {
        "id": "tKDzlSsqEKi-"
      },
      "source": [
        "## Normalize"
      ]
    },
    {
      "cell_type": "code",
      "execution_count": 27,
      "metadata": {
        "id": "2YQhCD7dEAPc"
      },
      "outputs": [],
      "source": [
        "def get_mean_std(dataset):\n",
        "  meanRGB = [np.mean(image.numpy(), axis=(1,2)) for image,_ in dataset]\n",
        "  stdRGB = [np.std(image.numpy(), axis=(1,2)) for image,_ in dataset]\n",
        "\n",
        "  meanR = np.mean([m[0] for m in meanRGB])\n",
        "  meanG = np.mean([m[1] for m in meanRGB])\n",
        "  meanB = np.mean([m[2] for m in meanRGB])\n",
        "\n",
        "  stdR = np.mean([s[0] for s in stdRGB])\n",
        "  stdG = np.mean([s[1] for s in stdRGB])\n",
        "  stdB = np.mean([s[2] for s in stdRGB])\n",
        "\n",
        "  print(meanR, meanG, meanB)\n",
        "  print(stdR, stdG, stdB)"
      ]
    },
    {
      "cell_type": "code",
      "execution_count": 28,
      "metadata": {
        "colab": {
          "base_uri": "https://localhost:8080/"
        },
        "id": "VEG6PpARENpR",
        "outputId": "06770b26-551e-4452-c9b7-07a59d21ecb3"
      },
      "outputs": [
        {
          "output_type": "stream",
          "name": "stdout",
          "text": [
            "0.82407635 0.8013382 0.79451895\n",
            "0.25283885 0.26594353 0.26951617\n"
          ]
        }
      ],
      "source": [
        "get_mean_std(resize_train)"
      ]
    },
    {
      "cell_type": "code",
      "execution_count": 29,
      "metadata": {
        "colab": {
          "base_uri": "https://localhost:8080/"
        },
        "id": "8QnyjZ82EPle",
        "outputId": "9449c1a8-25d6-463a-d3db-7d861ac080fd"
      },
      "outputs": [
        {
          "output_type": "stream",
          "name": "stdout",
          "text": [
            "0.8237317 0.8022987 0.79481965\n",
            "0.25190422 0.2644349 0.26853362\n"
          ]
        }
      ],
      "source": [
        "get_mean_std(resize_test)"
      ]
    },
    {
      "cell_type": "code",
      "execution_count": 30,
      "metadata": {
        "id": "8ZDWin8bERUh"
      },
      "outputs": [],
      "source": [
        "# normalization 준비\n",
        "\n",
        "resize_train_mean=[0.82407635, 0.8013382, 0.79451895]\n",
        "resize_train_std=[0.25283885, 0.26594353, 0.26951617]\n",
        "\n",
        "resize_test_mean=[0.8237317, 0.8022987, 0.79481965]\n",
        "resize_test_std=[0.25190422, 0.2644349, 0.26853362]"
      ]
    },
    {
      "cell_type": "markdown",
      "metadata": {
        "id": "aUjiJQPeEYWW"
      },
      "source": [
        "## Image Augmentation"
      ]
    },
    {
      "cell_type": "code",
      "execution_count": 31,
      "metadata": {
        "id": "FHJruJ68E47F"
      },
      "outputs": [],
      "source": [
        "transform_train = transforms.Compose([\n",
        "    transforms.Resize((224, 224)), # 이미지 resize\n",
        "    #transforms.RandomCrop(128), # 이미지를 랜덤으로 크롭\n",
        "    transforms.ColorJitter(brightness=0.2, contrast=0.2, saturation=0.2, hue=0.2), # 이미지 지터링(밝기, 대조, 채비, 색조)\n",
        "    transforms.RandomHorizontalFlip(p = 0.5), # p확률로 이미지 좌우반전\n",
        "    transforms.RandomVerticalFlip(p = 0.5), # p확률로 상하반전\n",
        "    transforms.ToTensor(),\n",
        "    transforms.Normalize(resize_train_mean, resize_train_std)\n",
        "])\n",
        "\n",
        "transform_test = transforms.Compose([\n",
        "    transforms.Resize((224, 224)), \n",
        "    transforms.ToTensor(),\n",
        "    transforms.Normalize(resize_test_mean, resize_test_std)\n",
        "])\n",
        "\n",
        "trainset = torchvision.datasets.ImageFolder(root=train_path, transform=transform_train)\n",
        "testset = torchvision.datasets.ImageFolder(root=test_path, transform=transform_test)\n",
        "\n",
        "train_loader = torch.utils.data.DataLoader(trainset, batch_size=64,\n",
        "                                          shuffle=True, num_workers=0)\n",
        "\n",
        "test_loader = torch.utils.data.DataLoader(testset, batch_size=64,\n",
        "                                         shuffle=False, num_workers=0)"
      ]
    },
    {
      "cell_type": "markdown",
      "metadata": {
        "id": "YrbPKga8F_Cb"
      },
      "source": [
        "## 이미지 확인"
      ]
    },
    {
      "cell_type": "code",
      "execution_count": 32,
      "metadata": {
        "id": "q4t4d4XHGAX7"
      },
      "outputs": [],
      "source": [
        "def imshow(img, mean, std):\n",
        "    npimg = img.numpy()\n",
        "    img = np.transpose( npimg, (1, 2, 0) )\n",
        "    img = img * std + mean # renormalize\n",
        "    img = img.clip(0, 1)\n",
        "    plt.imshow(img)\n",
        "    plt.show()\n",
        "\n",
        "\n",
        "none_trans = torchvision.datasets.ImageFolder(root=train_path, transform=None)"
      ]
    },
    {
      "cell_type": "code",
      "execution_count": 33,
      "metadata": {
        "colab": {
          "base_uri": "https://localhost:8080/",
          "height": 97
        },
        "id": "Dl6MFEhnGHUA",
        "outputId": "10c8583b-f0a1-4f9c-e58a-7af600052bad"
      },
      "outputs": [
        {
          "output_type": "execute_result",
          "data": {
            "text/plain": [
              "<PIL.Image.Image image mode=RGB size=60x80 at 0x7F5E3E517AD0>"
            ],
            "image/png": "[encoded data removed]"
          },
          "metadata": {},
          "execution_count": 33
        }
      ],
      "source": [
        "# 원본 이미지\n",
        "none_trans[359][0]"
      ]
    },
    {
      "cell_type": "code",
      "execution_count": 34,
      "metadata": {
        "colab": {
          "base_uri": "https://localhost:8080/",
          "height": 269
        },
        "id": "-Hhj2YKmGIIM",
        "outputId": "5f8b479a-20fb-4d45-c9d7-397a768e2da4"
      },
      "outputs": [
        {
          "output_type": "display_data",
          "data": {
            "text/plain": [
              "<Figure size 432x288 with 1 Axes>"
            ],
            "image/png": "[encoded data removed]"
          },
          "metadata": {
            "needs_background": "light"
          }
        }
      ],
      "source": [
        "# augmentation을 적용한 shark 이미지\n",
        "imshow((trainset[359][0]),resize_train_mean,resize_train_std)"
      ]
    },
    {
      "cell_type": "markdown",
      "metadata": {
        "id": "-MeIwA0W2uok"
      },
      "source": [
        "# ResNet50\n",
        "- 참고: https://better-tomorrow.tistory.com/entry/TorchVision-model-funetuning"
      ]
    },
    {
      "cell_type": "code",
      "execution_count": 35,
      "metadata": {
        "id": "0mSJN-aC2vOc"
      },
      "outputs": [],
      "source": [
        "from __future__ import print_function, division\n",
        "\n",
        "import torch\n",
        "import torch.nn as nn\n",
        "import torch.optim as optim\n",
        "from torch.optim import lr_scheduler\n",
        "import numpy as np\n",
        "import torchvision\n",
        "from torchvision import datasets, models, transforms\n",
        "import matplotlib.pyplot as plt\n",
        "import time\n",
        "import os\n",
        "import copy"
      ]
    },
    {
      "cell_type": "code",
      "execution_count": 36,
      "metadata": {
        "id": "5Okv2vuZ3J_-"
      },
      "outputs": [],
      "source": [
        "# Models to choose from [resnet, alexnet, vgg, squeezenet, densenet, inception]\n",
        "model_name = \"resnet18\"\n",
        "\n",
        "# Number of classes in the dataset\n",
        "num_classes = 2\n",
        "\n",
        "# Batch size for training (change depending on how much memory you have)\n",
        "batch_size = 64\n",
        "\n",
        "# Number of epochs to train for\n",
        "num_epochs = 3\n",
        "\n",
        "# Flag for feature extracting. When False, we finetune the whole model,\n",
        "#   when True we only update the reshaped layer params\n",
        "feature_extract = True"
      ]
    },
    {
      "cell_type": "code",
      "execution_count": 37,
      "metadata": {
        "colab": {
          "base_uri": "https://localhost:8080/"
        },
        "id": "O-v5rTcx3gji",
        "outputId": "ae68594c-e7c7-411d-ae4b-d1d2dab90c55"
      },
      "outputs": [
        {
          "output_type": "execute_result",
          "data": {
            "text/plain": [
              "['bottom', 'top']"
            ]
          },
          "metadata": {},
          "execution_count": 37
        }
      ],
      "source": [
        "image_datasets = {'train': trainset, 'val': testset}\n",
        "dataloaders = {'train': train_loader, 'val': test_loader}\n",
        "dataset_sizes = {x: len(image_datasets[x]) for x in ['train', 'val']}\n",
        "class_names = image_datasets['train'].classes\n",
        "class_names"
      ]
    },
    {
      "cell_type": "markdown",
      "source": [
        "## Model Training and Validation Code"
      ],
      "metadata": {
        "id": "Y_43A2YAgO4i"
      }
    },
    {
      "cell_type": "code",
      "execution_count": 38,
      "metadata": {
        "id": "9qm-JIPV3Imk"
      },
      "outputs": [],
      "source": [
        "def train_model(model, dataloaders, criterion, optimizer, num_epochs=25, is_inception=False):\n",
        "    since = time.time()\n",
        "\n",
        "    val_acc_history = []\n",
        "\n",
        "    best_model_wts = copy.deepcopy(model.state_dict())\n",
        "    best_acc = 0.0\n",
        "\n",
        "    for epoch in range(num_epochs):\n",
        "        print('Epoch {}/{}'.format(epoch, num_epochs - 1))\n",
        "        print('-' * 10)\n",
        "\n",
        "        # Each epoch has a training and validation phase\n",
        "        for phase in ['train', 'val']:\n",
        "            if phase == 'train':\n",
        "                model.train()  # Set model to training mode\n",
        "            else:\n",
        "                model.eval()   # Set model to evaluate mode\n",
        "\n",
        "            running_loss = 0.0\n",
        "            running_corrects = 0\n",
        "\n",
        "            # Iterate over data.\n",
        "            for inputs, labels in dataloaders[phase]:\n",
        "                inputs = inputs.to(device)\n",
        "                labels = labels.to(device)\n",
        "\n",
        "                # zero the parameter gradients\n",
        "                optimizer.zero_grad()\n",
        "\n",
        "                # forward\n",
        "                # track history if only in train\n",
        "                with torch.set_grad_enabled(phase == 'train'):\n",
        "                    # Get model outputs and calculate loss\n",
        "                    # Special case for inception because in training it has an auxiliary output. In train\n",
        "                    #   mode we calculate the loss by summing the final output and the auxiliary output\n",
        "                    #   but in testing we only consider the final output.\n",
        "                    if is_inception and phase == 'train':\n",
        "                        # From https://discuss.pytorch.org/t/how-to-optimize-inception-model-with-auxiliary-classifiers/7958\n",
        "                        outputs, aux_outputs = model(inputs)\n",
        "                        loss1 = criterion(outputs, labels)\n",
        "                        loss2 = criterion(aux_outputs, labels)\n",
        "                        loss = loss1 + 0.4*loss2\n",
        "                    else:\n",
        "                        outputs = model(inputs)\n",
        "                        loss = criterion(outputs, labels)\n",
        "\n",
        "                    _, preds = torch.max(outputs, 1)\n",
        "\n",
        "                    # backward + optimize only if in training phase\n",
        "                    if phase == 'train':\n",
        "                        loss.backward()\n",
        "                        optimizer.step()\n",
        "\n",
        "                # statistics\n",
        "                running_loss += loss.item() * inputs.size(0)\n",
        "                running_corrects += torch.sum(preds == labels.data)\n",
        "\n",
        "            epoch_loss = running_loss / len(dataloaders[phase].dataset)\n",
        "            epoch_acc = running_corrects.double() / len(dataloaders[phase].dataset)\n",
        "\n",
        "            print('{} Loss: {:.4f} Acc: {:.4f}'.format(phase, epoch_loss, epoch_acc))\n",
        "\n",
        "            # deep copy the model\n",
        "            if phase == 'val' and epoch_acc > best_acc:\n",
        "                best_acc = epoch_acc\n",
        "                best_model_wts = copy.deepcopy(model.state_dict())\n",
        "            if phase == 'val':\n",
        "                val_acc_history.append(epoch_acc)\n",
        "\n",
        "        print()\n",
        "\n",
        "    time_elapsed = time.time() - since\n",
        "    print('Training complete in {:.0f}m {:.0f}s'.format(time_elapsed // 60, time_elapsed % 60))\n",
        "    print('Best val Acc: {:4f}'.format(best_acc))\n",
        "\n",
        "    # load best model weights\n",
        "    model.load_state_dict(best_model_wts)\n",
        "    return model, val_acc_history"
      ]
    },
    {
      "cell_type": "markdown",
      "source": [
        "## Set Model Parameters\n",
        "- Feature extract 할 때 .requires_grad 파라미터를 False로 설정합니다.\n",
        "- 반면, training from scratch나 fine-tuning을 할 때는 .requires_grad를 True로 설정합니다."
      ],
      "metadata": {
        "id": "-aFXN7OcgiPx"
      }
    },
    {
      "cell_type": "code",
      "execution_count": 39,
      "metadata": {
        "id": "T1-ylSZL32Cc"
      },
      "outputs": [],
      "source": [
        "def set_parameter_requires_grad(model, feature_extracting):\n",
        "    if feature_extracting:\n",
        "        for param in model.parameters():\n",
        "            param.requires_grad = False"
      ]
    },
    {
      "cell_type": "markdown",
      "source": [
        "## Initialize and Reshape the Networks\n",
        "- 본인의 dataset의 class 수와 동일한 수의 출력을 가지도록 변경\n",
        "- Feature extraction 시, 마지막 레이어의 parameter만 업데이트하거나, reshaping하는 레이어의 parameter만 업데이트 합니다. 따라서 변경하지 않으려는 레이어에 대해 gradient를 계산할 필요가 없으므로, 효율성을 위해 .required_grads 속성을 False로 설정합니다. 새 레이어를 초기화하고 기본적으로 새 parameter에 .requires_grad=True가 있으므로, 새 레이어의 파라미터만 업데이트 됩니다.\n",
        "- Fine-tuning 할 때 모든 .required_grad를 기본값 True로 설정한 상태로 둘 수 있습니다."
      ],
      "metadata": {
        "id": "fEU7xiX_g9sa"
      }
    },
    {
      "cell_type": "code",
      "execution_count": 40,
      "metadata": {
        "colab": {
          "base_uri": "https://localhost:8080/",
          "height": 1000,
          "referenced_widgets": [
            "b67e874c7f48402b902ab939ef022f3b",
            "81c0b69aeb164896b66412e43c697c54",
            "61616ea7f8734467a6e577cde3e850f2",
            "df6469015fb94d8f8c3ca6b21a231fe8",
            "411919896f6c46ca82fd3404ddcfaabf",
            "549e8bce00924a14a292480f26bfb0b5",
            "036ebf6f78e248069cf016a447c3a499",
            "cbe481ff6cc4452aba1819f69fafcac0",
            "ba263baf09fb4dd4ab0d0b3afe9d07b7",
            "278f2c93a2a049b8aca5df4364ce61eb",
            "d2003a3f1eb54e9c88bf181749c52ee9"
          ]
        },
        "id": "HaF5PJAV3Yvt",
        "outputId": "58d075b6-5d56-48ae-a294-4c2bece2cd62"
      },
      "outputs": [
        {
          "output_type": "stream",
          "name": "stderr",
          "text": [
            "Downloading: \"https://download.pytorch.org/models/resnet18-f37072fd.pth\" to /root/.cache/torch/hub/checkpoints/resnet18-f37072fd.pth\n"
          ]
        },
        {
          "output_type": "display_data",
          "data": {
            "text/plain": [
              "  0%|          | 0.00/44.7M [00:00<?, ?B/s]"
            ],
            "application/vnd.jupyter.widget-view+json": {
              "version_major": 2,
              "version_minor": 0,
              "model_id": "b67e874c7f48402b902ab939ef022f3b"
            }
          },
          "metadata": {}
        },
        {
          "output_type": "stream",
          "name": "stdout",
          "text": [
            "ResNet(\n",
            "  (conv1): Conv2d(3, 64, kernel_size=(7, 7), stride=(2, 2), padding=(3, 3), bias=False)\n",
            "  (bn1): BatchNorm2d(64, eps=1e-05, momentum=0.1, affine=True, track_running_stats=True)\n",
            "  (relu): ReLU(inplace=True)\n",
            "  (maxpool): MaxPool2d(kernel_size=3, stride=2, padding=1, dilation=1, ceil_mode=False)\n",
            "  (layer1): Sequential(\n",
            "    (0): BasicBlock(\n",
            "      (conv1): Conv2d(64, 64, kernel_size=(3, 3), stride=(1, 1), padding=(1, 1), bias=False)\n",
            "      (bn1): BatchNorm2d(64, eps=1e-05, momentum=0.1, affine=True, track_running_stats=True)\n",
            "      (relu): ReLU(inplace=True)\n",
            "      (conv2): Conv2d(64, 64, kernel_size=(3, 3), stride=(1, 1), padding=(1, 1), bias=False)\n",
            "      (bn2): BatchNorm2d(64, eps=1e-05, momentum=0.1, affine=True, track_running_stats=True)\n",
            "    )\n",
            "    (1): BasicBlock(\n",
            "      (conv1): Conv2d(64, 64, kernel_size=(3, 3), stride=(1, 1), padding=(1, 1), bias=False)\n",
            "      (bn1): BatchNorm2d(64, eps=1e-05, momentum=0.1, affine=True, track_running_stats=True)\n",
            "      (relu): ReLU(inplace=True)\n",
            "      (conv2): Conv2d(64, 64, kernel_size=(3, 3), stride=(1, 1), padding=(1, 1), bias=False)\n",
            "      (bn2): BatchNorm2d(64, eps=1e-05, momentum=0.1, affine=True, track_running_stats=True)\n",
            "    )\n",
            "  )\n",
            "  (layer2): Sequential(\n",
            "    (0): BasicBlock(\n",
            "      (conv1): Conv2d(64, 128, kernel_size=(3, 3), stride=(2, 2), padding=(1, 1), bias=False)\n",
            "      (bn1): BatchNorm2d(128, eps=1e-05, momentum=0.1, affine=True, track_running_stats=True)\n",
            "      (relu): ReLU(inplace=True)\n",
            "      (conv2): Conv2d(128, 128, kernel_size=(3, 3), stride=(1, 1), padding=(1, 1), bias=False)\n",
            "      (bn2): BatchNorm2d(128, eps=1e-05, momentum=0.1, affine=True, track_running_stats=True)\n",
            "      (downsample): Sequential(\n",
            "        (0): Conv2d(64, 128, kernel_size=(1, 1), stride=(2, 2), bias=False)\n",
            "        (1): BatchNorm2d(128, eps=1e-05, momentum=0.1, affine=True, track_running_stats=True)\n",
            "      )\n",
            "    )\n",
            "    (1): BasicBlock(\n",
            "      (conv1): Conv2d(128, 128, kernel_size=(3, 3), stride=(1, 1), padding=(1, 1), bias=False)\n",
            "      (bn1): BatchNorm2d(128, eps=1e-05, momentum=0.1, affine=True, track_running_stats=True)\n",
            "      (relu): ReLU(inplace=True)\n",
            "      (conv2): Conv2d(128, 128, kernel_size=(3, 3), stride=(1, 1), padding=(1, 1), bias=False)\n",
            "      (bn2): BatchNorm2d(128, eps=1e-05, momentum=0.1, affine=True, track_running_stats=True)\n",
            "    )\n",
            "  )\n",
            "  (layer3): Sequential(\n",
            "    (0): BasicBlock(\n",
            "      (conv1): Conv2d(128, 256, kernel_size=(3, 3), stride=(2, 2), padding=(1, 1), bias=False)\n",
            "      (bn1): BatchNorm2d(256, eps=1e-05, momentum=0.1, affine=True, track_running_stats=True)\n",
            "      (relu): ReLU(inplace=True)\n",
            "      (conv2): Conv2d(256, 256, kernel_size=(3, 3), stride=(1, 1), padding=(1, 1), bias=False)\n",
            "      (bn2): BatchNorm2d(256, eps=1e-05, momentum=0.1, affine=True, track_running_stats=True)\n",
            "      (downsample): Sequential(\n",
            "        (0): Conv2d(128, 256, kernel_size=(1, 1), stride=(2, 2), bias=False)\n",
            "        (1): BatchNorm2d(256, eps=1e-05, momentum=0.1, affine=True, track_running_stats=True)\n",
            "      )\n",
            "    )\n",
            "    (1): BasicBlock(\n",
            "      (conv1): Conv2d(256, 256, kernel_size=(3, 3), stride=(1, 1), padding=(1, 1), bias=False)\n",
            "      (bn1): BatchNorm2d(256, eps=1e-05, momentum=0.1, affine=True, track_running_stats=True)\n",
            "      (relu): ReLU(inplace=True)\n",
            "      (conv2): Conv2d(256, 256, kernel_size=(3, 3), stride=(1, 1), padding=(1, 1), bias=False)\n",
            "      (bn2): BatchNorm2d(256, eps=1e-05, momentum=0.1, affine=True, track_running_stats=True)\n",
            "    )\n",
            "  )\n",
            "  (layer4): Sequential(\n",
            "    (0): BasicBlock(\n",
            "      (conv1): Conv2d(256, 512, kernel_size=(3, 3), stride=(2, 2), padding=(1, 1), bias=False)\n",
            "      (bn1): BatchNorm2d(512, eps=1e-05, momentum=0.1, affine=True, track_running_stats=True)\n",
            "      (relu): ReLU(inplace=True)\n",
            "      (conv2): Conv2d(512, 512, kernel_size=(3, 3), stride=(1, 1), padding=(1, 1), bias=False)\n",
            "      (bn2): BatchNorm2d(512, eps=1e-05, momentum=0.1, affine=True, track_running_stats=True)\n",
            "      (downsample): Sequential(\n",
            "        (0): Conv2d(256, 512, kernel_size=(1, 1), stride=(2, 2), bias=False)\n",
            "        (1): BatchNorm2d(512, eps=1e-05, momentum=0.1, affine=True, track_running_stats=True)\n",
            "      )\n",
            "    )\n",
            "    (1): BasicBlock(\n",
            "      (conv1): Conv2d(512, 512, kernel_size=(3, 3), stride=(1, 1), padding=(1, 1), bias=False)\n",
            "      (bn1): BatchNorm2d(512, eps=1e-05, momentum=0.1, affine=True, track_running_stats=True)\n",
            "      (relu): ReLU(inplace=True)\n",
            "      (conv2): Conv2d(512, 512, kernel_size=(3, 3), stride=(1, 1), padding=(1, 1), bias=False)\n",
            "      (bn2): BatchNorm2d(512, eps=1e-05, momentum=0.1, affine=True, track_running_stats=True)\n",
            "    )\n",
            "  )\n",
            "  (avgpool): AdaptiveAvgPool2d(output_size=(1, 1))\n",
            "  (fc): Linear(in_features=512, out_features=2, bias=True)\n",
            ")\n"
          ]
        }
      ],
      "source": [
        "def initialize_model(model_name, num_classes, feature_extract, use_pretrained=True):\n",
        "    # Initialize these variables which will be set in this if statement. Each of these\n",
        "    #   variables is model specific.\n",
        "    model_ft = None\n",
        "    input_size = 0\n",
        "\n",
        "    if model_name == \"resnet18\":\n",
        "        model_ft = models.resnet18(pretrained=use_pretrained)\n",
        "        set_parameter_requires_grad(model_ft, feature_extract)\n",
        "        num_ftrs = model_ft.fc.in_features\n",
        "        model_ft.fc = nn.Linear(num_ftrs, num_classes)\n",
        "        input_size = 224\n",
        "\n",
        "    else:\n",
        "        print(\"Invalid model name, exiting...\")\n",
        "        exit()\n",
        "\n",
        "    return model_ft, input_size\n",
        "\n",
        "# Initialize the model for this run\n",
        "model_ft, input_size = initialize_model(model_name, num_classes, feature_extract, use_pretrained=True)\n",
        "\n",
        "# Print the model we just instantiated\n",
        "print(model_ft)"
      ]
    },
    {
      "cell_type": "markdown",
      "source": [
        "## Create the Optimizer\n",
        "- 원하는 파라미터만 업데이트하는 optimizer을 만드는 것입니다."
      ],
      "metadata": {
        "id": "2mH2knXIhYYO"
      }
    },
    {
      "cell_type": "code",
      "execution_count": 41,
      "metadata": {
        "colab": {
          "base_uri": "https://localhost:8080/"
        },
        "id": "0uhKFDjg5yff",
        "outputId": "5e9f44b2-aacc-4e19-93a6-43764c4cb8af"
      },
      "outputs": [
        {
          "output_type": "stream",
          "name": "stdout",
          "text": [
            "Params to learn:\n",
            "\t fc.weight\n",
            "\t fc.bias\n"
          ]
        }
      ],
      "source": [
        "# Send the model to GPU\n",
        "model_ft = model_ft.to(device)\n",
        "\n",
        "# Gather the parameters to be optimized/updated in this run. If we are\n",
        "#  finetuning we will be updating all parameters. However, if we are\n",
        "#  doing feature extract method, we will only update the parameters\n",
        "#  that we have just initialized, i.e. the parameters with requires_grad\n",
        "#  is True.\n",
        "params_to_update = model_ft.parameters()\n",
        "print(\"Params to learn:\")\n",
        "if feature_extract:\n",
        "    params_to_update = [] # 파라미터 리스트 생성\n",
        "    for name,param in model_ft.named_parameters():\n",
        "        if param.requires_grad == True:\n",
        "            params_to_update.append(param)\n",
        "            print(\"\\t\",name)\n",
        "else:\n",
        "    for name,param in model_ft.named_parameters():\n",
        "        if param.requires_grad == True:\n",
        "            print(\"\\t\",name)\n",
        "\n",
        "# Observe that all parameters are being optimized\n",
        "optimizer_ft = optim.SGD(params_to_update, lr=0.001, momentum=0.9) # 업데이트 할 파라미터만 넣어준다."
      ]
    },
    {
      "cell_type": "markdown",
      "source": [
        "## Run Training and Validation Step\n",
        "- 기본 learning rate는 모든 모델에 대해 최적이 아니므로 최대 정확도를 얻으려면 각 모델에 대해 개별적으로 조정해야합니다."
      ],
      "metadata": {
        "id": "z1OF3ilGhfr8"
      }
    },
    {
      "cell_type": "code",
      "execution_count": 42,
      "metadata": {
        "colab": {
          "base_uri": "https://localhost:8080/"
        },
        "id": "bQI0yCJF6VbF",
        "outputId": "f6c5a4e2-da89-4dc5-c856-fb8da7311f32"
      },
      "outputs": [
        {
          "output_type": "stream",
          "name": "stdout",
          "text": [
            "Epoch 0/2\n",
            "----------\n",
            "train Loss: 0.2320 Acc: 0.9171\n",
            "val Loss: 0.1221 Acc: 0.9533\n",
            "\n",
            "Epoch 1/2\n",
            "----------\n",
            "train Loss: 0.1216 Acc: 0.9607\n",
            "val Loss: 0.0853 Acc: 0.9745\n",
            "\n",
            "Epoch 2/2\n",
            "----------\n",
            "train Loss: 0.1000 Acc: 0.9697\n",
            "val Loss: 0.0831 Acc: 0.9708\n",
            "\n",
            "Training complete in 79m 19s\n",
            "Best val Acc: 0.974541\n"
          ]
        }
      ],
      "source": [
        "# Setup the loss fxn\n",
        "criterion = nn.CrossEntropyLoss()\n",
        "\n",
        "# Train and evaluate\n",
        "model_ft, hist = train_model(model_ft, dataloaders, criterion, optimizer_ft, num_epochs=num_epochs, is_inception=(model_name==\"inception\"))"
      ]
    },
    {
      "cell_type": "markdown",
      "source": [
        "## 예측값 이미지로 확인"
      ],
      "metadata": {
        "id": "-hoPkqfPgGWQ"
      }
    },
    {
      "cell_type": "code",
      "source": [
        "def imshow(inp, title=None):\n",
        "    \"\"\"Imshow for Tensor.\"\"\"\n",
        "    inp = inp.numpy().transpose((1, 2, 0))\n",
        "    mean = np.array([0.485, 0.456, 0.406])\n",
        "    std = np.array([0.229, 0.224, 0.225])\n",
        "    inp = std * inp + mean\n",
        "    inp = np.clip(inp, 0, 1)\n",
        "    plt.imshow(inp)\n",
        "    if title is not None:\n",
        "        plt.title(title)\n",
        "    plt.pause(0.001)  # 갱신이 될 때까지 잠시 기다립니다."
      ],
      "metadata": {
        "id": "dBU1SJUMfqkq"
      },
      "execution_count": 43,
      "outputs": []
    },
    {
      "cell_type": "code",
      "source": [
        "def visualize_model(model, num_images=6):\n",
        "    was_training = model.training\n",
        "    model.eval()\n",
        "    images_so_far = 0\n",
        "    fig = plt.figure()\n",
        "\n",
        "    with torch.no_grad():\n",
        "        for i, (inputs, labels) in enumerate(dataloaders['val']):\n",
        "            inputs = inputs.to(device)\n",
        "            labels = labels.to(device)\n",
        "\n",
        "            outputs = model(inputs)\n",
        "            _, preds = torch.max(outputs, 1)\n",
        "\n",
        "            for j in range(inputs.size()[0]):\n",
        "                images_so_far += 1\n",
        "                ax = plt.subplot(num_images//2, 2, images_so_far)\n",
        "                ax.axis('off')\n",
        "                ax.set_title('predicted: {}'.format(class_names[preds[j]]))\n",
        "                imshow(inputs.cpu().data[j])\n",
        "\n",
        "                if images_so_far == num_images:\n",
        "                    model.train(mode=was_training)\n",
        "                    return\n",
        "        model.train(mode=was_training)"
      ],
      "metadata": {
        "id": "Jtet7e9xfuq9"
      },
      "execution_count": 49,
      "outputs": []
    },
    {
      "cell_type": "code",
      "source": [
        "visualize_model(model_ft, 4)"
      ],
      "metadata": {
        "colab": {
          "base_uri": "https://localhost:8080/",
          "height": 533
        },
        "id": "48lOwosXfy4B",
        "outputId": "562b372c-1110-4c9a-c51e-a2129e35bcfc"
      },
      "execution_count": 53,
      "outputs": [
        {
          "output_type": "display_data",
          "data": {
            "text/plain": [
              "<Figure size 432x288 with 1 Axes>"
            ],
            "image/png": "[encoded data removed]"
          },
          "metadata": {
            "needs_background": "light"
          }
        },
        {
          "output_type": "display_data",
          "data": {
            "text/plain": [
              "<Figure size 432x288 with 1 Axes>"
            ],
            "image/png": "[encoded data removed]"
          },
          "metadata": {
            "needs_background": "light"
          }
        },
        {
          "output_type": "display_data",
          "data": {
            "text/plain": [
              "<Figure size 432x288 with 1 Axes>"
            ],
            "image/png": "[encoded data removed]"
          },
          "metadata": {
            "needs_background": "light"
          }
        },
        {
          "output_type": "display_data",
          "data": {
            "text/plain": [
              "<Figure size 432x288 with 1 Axes>"
            ],
            "image/png": "[encoded data removed]"
          },
          "metadata": {
            "needs_background": "light"
          }
        }
      ]
    }
  ],
  "metadata": {
    "accelerator": "TPU",
    "colab": {
      "name": "ResNet Test2.ipynb",
      "provenance": [],
      "collapsed_sections": [],
      "toc_visible": true
    },
    "kernelspec": {
      "display_name": "Python 3",
      "name": "python3"
    },
    "language_info": {
      "name": "python"
    },
    "widgets": {
      "application/vnd.jupyter.widget-state+json": {
        "b67e874c7f48402b902ab939ef022f3b": {
          "model_module": "@jupyter-widgets/controls",
          "model_name": "HBoxModel",
          "model_module_version": "1.5.0",
          "state": {
            "_dom_classes": [],
            "_model_module": "@jupyter-widgets/controls",
            "_model_module_version": "1.5.0",
            "_model_name": "HBoxModel",
            "_view_count": null,
            "_view_module": "@jupyter-widgets/controls",
            "_view_module_version": "1.5.0",
            "_view_name": "HBoxView",
            "box_style": "",
            "children": [
              "IPY_MODEL_81c0b69aeb164896b66412e43c697c54",
              "IPY_MODEL_61616ea7f8734467a6e577cde3e850f2",
              "IPY_MODEL_df6469015fb94d8f8c3ca6b21a231fe8"
            ],
            "layout": "IPY_MODEL_411919896f6c46ca82fd3404ddcfaabf"
          }
        },
        "81c0b69aeb164896b66412e43c697c54": {
          "model_module": "@jupyter-widgets/controls",
          "model_name": "HTMLModel",
          "model_module_version": "1.5.0",
          "state": {
            "_dom_classes": [],
            "_model_module": "@jupyter-widgets/controls",
            "_model_module_version": "1.5.0",
            "_model_name": "HTMLModel",
            "_view_count": null,
            "_view_module": "@jupyter-widgets/controls",
            "_view_module_version": "1.5.0",
            "_view_name": "HTMLView",
            "description": "",
            "description_tooltip": null,
            "layout": "IPY_MODEL_549e8bce00924a14a292480f26bfb0b5",
            "placeholder": "​",
            "style": "IPY_MODEL_036ebf6f78e248069cf016a447c3a499",
            "value": "100%"
          }
        },
        "61616ea7f8734467a6e577cde3e850f2": {
          "model_module": "@jupyter-widgets/controls",
          "model_name": "FloatProgressModel",
          "model_module_version": "1.5.0",
          "state": {
            "_dom_classes": [],
            "_model_module": "@jupyter-widgets/controls",
            "_model_module_version": "1.5.0",
            "_model_name": "FloatProgressModel",
            "_view_count": null,
            "_view_module": "@jupyter-widgets/controls",
            "_view_module_version": "1.5.0",
            "_view_name": "ProgressView",
            "bar_style": "success",
            "description": "",
            "description_tooltip": null,
            "layout": "IPY_MODEL_cbe481ff6cc4452aba1819f69fafcac0",
            "max": 46830571,
            "min": 0,
            "orientation": "horizontal",
            "style": "IPY_MODEL_ba263baf09fb4dd4ab0d0b3afe9d07b7",
            "value": 46830571
          }
        },
        "df6469015fb94d8f8c3ca6b21a231fe8": {
          "model_module": "@jupyter-widgets/controls",
          "model_name": "HTMLModel",
          "model_module_version": "1.5.0",
          "state": {
            "_dom_classes": [],
            "_model_module": "@jupyter-widgets/controls",
            "_model_module_version": "1.5.0",
            "_model_name": "HTMLModel",
            "_view_count": null,
            "_view_module": "@jupyter-widgets/controls",
            "_view_module_version": "1.5.0",
            "_view_name": "HTMLView",
            "description": "",
            "description_tooltip": null,
            "layout": "IPY_MODEL_278f2c93a2a049b8aca5df4364ce61eb",
            "placeholder": "​",
            "style": "IPY_MODEL_d2003a3f1eb54e9c88bf181749c52ee9",
            "value": " 44.7M/44.7M [00:00&lt;00:00, 151MB/s]"
          }
        },
        "411919896f6c46ca82fd3404ddcfaabf": {
          "model_module": "@jupyter-widgets/base",
          "model_name": "LayoutModel",
          "model_module_version": "1.2.0",
          "state": {
            "_model_module": "@jupyter-widgets/base",
            "_model_module_version": "1.2.0",
            "_model_name": "LayoutModel",
            "_view_count": null,
            "_view_module": "@jupyter-widgets/base",
            "_view_module_version": "1.2.0",
            "_view_name": "LayoutView",
            "align_content": null,
            "align_items": null,
            "align_self": null,
            "border": null,
            "bottom": null,
            "display": null,
            "flex": null,
            "flex_flow": null,
            "grid_area": null,
            "grid_auto_columns": null,
            "grid_auto_flow": null,
            "grid_auto_rows": null,
            "grid_column": null,
            "grid_gap": null,
            "grid_row": null,
            "grid_template_areas": null,
            "grid_template_columns": null,
            "grid_template_rows": null,
            "height": null,
            "justify_content": null,
            "justify_items": null,
            "left": null,
            "margin": null,
            "max_height": null,
            "max_width": null,
            "min_height": null,
            "min_width": null,
            "object_fit": null,
            "object_position": null,
            "order": null,
            "overflow": null,
            "overflow_x": null,
            "overflow_y": null,
            "padding": null,
            "right": null,
            "top": null,
            "visibility": null,
            "width": null
          }
        },
        "549e8bce00924a14a292480f26bfb0b5": {
          "model_module": "@jupyter-widgets/base",
          "model_name": "LayoutModel",
          "model_module_version": "1.2.0",
          "state": {
            "_model_module": "@jupyter-widgets/base",
            "_model_module_version": "1.2.0",
            "_model_name": "LayoutModel",
            "_view_count": null,
            "_view_module": "@jupyter-widgets/base",
            "_view_module_version": "1.2.0",
            "_view_name": "LayoutView",
            "align_content": null,
            "align_items": null,
            "align_self": null,
            "border": null,
            "bottom": null,
            "display": null,
            "flex": null,
            "flex_flow": null,
            "grid_area": null,
            "grid_auto_columns": null,
            "grid_auto_flow": null,
            "grid_auto_rows": null,
            "grid_column": null,
            "grid_gap": null,
            "grid_row": null,
            "grid_template_areas": null,
            "grid_template_columns": null,
            "grid_template_rows": null,
            "height": null,
            "justify_content": null,
            "justify_items": null,
            "left": null,
            "margin": null,
            "max_height": null,
            "max_width": null,
            "min_height": null,
            "min_width": null,
            "object_fit": null,
            "object_position": null,
            "order": null,
            "overflow": null,
            "overflow_x": null,
            "overflow_y": null,
            "padding": null,
            "right": null,
            "top": null,
            "visibility": null,
            "width": null
          }
        },
        "036ebf6f78e248069cf016a447c3a499": {
          "model_module": "@jupyter-widgets/controls",
          "model_name": "DescriptionStyleModel",
          "model_module_version": "1.5.0",
          "state": {
            "_model_module": "@jupyter-widgets/controls",
            "_model_module_version": "1.5.0",
            "_model_name": "DescriptionStyleModel",
            "_view_count": null,
            "_view_module": "@jupyter-widgets/base",
            "_view_module_version": "1.2.0",
            "_view_name": "StyleView",
            "description_width": ""
          }
        },
        "cbe481ff6cc4452aba1819f69fafcac0": {
          "model_module": "@jupyter-widgets/base",
          "model_name": "LayoutModel",
          "model_module_version": "1.2.0",
          "state": {
            "_model_module": "@jupyter-widgets/base",
            "_model_module_version": "1.2.0",
            "_model_name": "LayoutModel",
            "_view_count": null,
            "_view_module": "@jupyter-widgets/base",
            "_view_module_version": "1.2.0",
            "_view_name": "LayoutView",
            "align_content": null,
            "align_items": null,
            "align_self": null,
            "border": null,
            "bottom": null,
            "display": null,
            "flex": null,
            "flex_flow": null,
            "grid_area": null,
            "grid_auto_columns": null,
            "grid_auto_flow": null,
            "grid_auto_rows": null,
            "grid_column": null,
            "grid_gap": null,
            "grid_row": null,
            "grid_template_areas": null,
            "grid_template_columns": null,
            "grid_template_rows": null,
            "height": null,
            "justify_content": null,
            "justify_items": null,
            "left": null,
            "margin": null,
            "max_height": null,
            "max_width": null,
            "min_height": null,
            "min_width": null,
            "object_fit": null,
            "object_position": null,
            "order": null,
            "overflow": null,
            "overflow_x": null,
            "overflow_y": null,
            "padding": null,
            "right": null,
            "top": null,
            "visibility": null,
            "width": null
          }
        },
        "ba263baf09fb4dd4ab0d0b3afe9d07b7": {
          "model_module": "@jupyter-widgets/controls",
          "model_name": "ProgressStyleModel",
          "model_module_version": "1.5.0",
          "state": {
            "_model_module": "@jupyter-widgets/controls",
            "_model_module_version": "1.5.0",
            "_model_name": "ProgressStyleModel",
            "_view_count": null,
            "_view_module": "@jupyter-widgets/base",
            "_view_module_version": "1.2.0",
            "_view_name": "StyleView",
            "bar_color": null,
            "description_width": ""
          }
        },
        "278f2c93a2a049b8aca5df4364ce61eb": {
          "model_module": "@jupyter-widgets/base",
          "model_name": "LayoutModel",
          "model_module_version": "1.2.0",
          "state": {
            "_model_module": "@jupyter-widgets/base",
            "_model_module_version": "1.2.0",
            "_model_name": "LayoutModel",
            "_view_count": null,
            "_view_module": "@jupyter-widgets/base",
            "_view_module_version": "1.2.0",
            "_view_name": "LayoutView",
            "align_content": null,
            "align_items": null,
            "align_self": null,
            "border": null,
            "bottom": null,
            "display": null,
            "flex": null,
            "flex_flow": null,
            "grid_area": null,
            "grid_auto_columns": null,
            "grid_auto_flow": null,
            "grid_auto_rows": null,
            "grid_column": null,
            "grid_gap": null,
            "grid_row": null,
            "grid_template_areas": null,
            "grid_template_columns": null,
            "grid_template_rows": null,
            "height": null,
            "justify_content": null,
            "justify_items": null,
            "left": null,
            "margin": null,
            "max_height": null,
            "max_width": null,
            "min_height": null,
            "min_width": null,
            "object_fit": null,
            "object_position": null,
            "order": null,
            "overflow": null,
            "overflow_x": null,
            "overflow_y": null,
            "padding": null,
            "right": null,
            "top": null,
            "visibility": null,
            "width": null
          }
        },
        "d2003a3f1eb54e9c88bf181749c52ee9": {
          "model_module": "@jupyter-widgets/controls",
          "model_name": "DescriptionStyleModel",
          "model_module_version": "1.5.0",
          "state": {
            "_model_module": "@jupyter-widgets/controls",
            "_model_module_version": "1.5.0",
            "_model_name": "DescriptionStyleModel",
            "_view_count": null,
            "_view_module": "@jupyter-widgets/base",
            "_view_module_version": "1.2.0",
            "_view_name": "StyleView",
            "description_width": ""
          }
        }
      }
    }
  },
  "nbformat": 4,
  "nbformat_minor": 0
}